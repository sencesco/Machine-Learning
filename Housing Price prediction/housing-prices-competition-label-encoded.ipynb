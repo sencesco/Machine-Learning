{
 "cells": [
  {
   "cell_type": "markdown",
   "id": "51a3ecd4",
   "metadata": {
    "papermill": {
     "duration": 0.019426,
     "end_time": "2024-01-16T13:38:34.575278",
     "exception": false,
     "start_time": "2024-01-16T13:38:34.555852",
     "status": "completed"
    },
    "tags": []
   },
   "source": [
    "## Import data"
   ]
  },
  {
   "cell_type": "code",
   "execution_count": 1,
   "id": "c479917a",
   "metadata": {
    "execution": {
     "iopub.execute_input": "2024-01-16T13:38:34.615088Z",
     "iopub.status.busy": "2024-01-16T13:38:34.614537Z",
     "iopub.status.idle": "2024-01-16T13:38:37.031789Z",
     "shell.execute_reply": "2024-01-16T13:38:37.030101Z"
    },
    "papermill": {
     "duration": 2.441698,
     "end_time": "2024-01-16T13:38:37.035607",
     "exception": false,
     "start_time": "2024-01-16T13:38:34.593909",
     "status": "completed"
    },
    "tags": []
   },
   "outputs": [],
   "source": [
    "import numpy as np\n",
    "import pandas as pd \n",
    "import matplotlib.pyplot as plt\n",
    "import seaborn as sns"
   ]
  },
  {
   "cell_type": "code",
   "execution_count": 2,
   "id": "60bf72bc",
   "metadata": {
    "execution": {
     "iopub.execute_input": "2024-01-16T13:38:37.076566Z",
     "iopub.status.busy": "2024-01-16T13:38:37.075294Z",
     "iopub.status.idle": "2024-01-16T13:38:37.202904Z",
     "shell.execute_reply": "2024-01-16T13:38:37.200485Z"
    },
    "papermill": {
     "duration": 0.152199,
     "end_time": "2024-01-16T13:38:37.206152",
     "exception": false,
     "start_time": "2024-01-16T13:38:37.053953",
     "status": "completed"
    },
    "tags": []
   },
   "outputs": [],
   "source": [
    "house_price_path = '/kaggle/input/home-data-for-ml-course/train.csv'\n",
    "house_price = pd.read_csv(house_price_path, index_col='Id')\n",
    "\n",
    "house_price_test_path = '/kaggle/input/home-data-for-ml-course/test.csv'\n",
    "house_price_test = pd.read_csv(house_price_test_path, index_col='Id')"
   ]
  },
  {
   "cell_type": "code",
   "execution_count": 3,
   "id": "8a7adf84",
   "metadata": {
    "execution": {
     "iopub.execute_input": "2024-01-16T13:38:37.248730Z",
     "iopub.status.busy": "2024-01-16T13:38:37.248219Z",
     "iopub.status.idle": "2024-01-16T13:38:37.258851Z",
     "shell.execute_reply": "2024-01-16T13:38:37.257287Z"
    },
    "papermill": {
     "duration": 0.037099,
     "end_time": "2024-01-16T13:38:37.261645",
     "exception": false,
     "start_time": "2024-01-16T13:38:37.224546",
     "status": "completed"
    },
    "tags": []
   },
   "outputs": [
    {
     "data": {
      "text/plain": [
       "(1460, 80)"
      ]
     },
     "execution_count": 3,
     "metadata": {},
     "output_type": "execute_result"
    }
   ],
   "source": [
    "house_price.shape"
   ]
  },
  {
   "cell_type": "code",
   "execution_count": 4,
   "id": "3d5e8fae",
   "metadata": {
    "execution": {
     "iopub.execute_input": "2024-01-16T13:38:37.302997Z",
     "iopub.status.busy": "2024-01-16T13:38:37.302421Z",
     "iopub.status.idle": "2024-01-16T13:38:37.312475Z",
     "shell.execute_reply": "2024-01-16T13:38:37.310584Z"
    },
    "papermill": {
     "duration": 0.035145,
     "end_time": "2024-01-16T13:38:37.315468",
     "exception": false,
     "start_time": "2024-01-16T13:38:37.280323",
     "status": "completed"
    },
    "tags": []
   },
   "outputs": [
    {
     "data": {
      "text/plain": [
       "(1459, 79)"
      ]
     },
     "execution_count": 4,
     "metadata": {},
     "output_type": "execute_result"
    }
   ],
   "source": [
    "house_price_test.shape"
   ]
  },
  {
   "cell_type": "code",
   "execution_count": 5,
   "id": "7647522d",
   "metadata": {
    "execution": {
     "iopub.execute_input": "2024-01-16T13:38:37.355143Z",
     "iopub.status.busy": "2024-01-16T13:38:37.354707Z",
     "iopub.status.idle": "2024-01-16T13:38:37.362948Z",
     "shell.execute_reply": "2024-01-16T13:38:37.361628Z"
    },
    "papermill": {
     "duration": 0.031367,
     "end_time": "2024-01-16T13:38:37.365807",
     "exception": false,
     "start_time": "2024-01-16T13:38:37.334440",
     "status": "completed"
    },
    "tags": []
   },
   "outputs": [],
   "source": [
    "data = house_price.copy()\n",
    "data_test = house_price_test.copy()"
   ]
  },
  {
   "cell_type": "code",
   "execution_count": 6,
   "id": "e031df82",
   "metadata": {
    "execution": {
     "iopub.execute_input": "2024-01-16T13:38:37.406592Z",
     "iopub.status.busy": "2024-01-16T13:38:37.406117Z",
     "iopub.status.idle": "2024-01-16T13:38:37.414572Z",
     "shell.execute_reply": "2024-01-16T13:38:37.413572Z"
    },
    "papermill": {
     "duration": 0.032042,
     "end_time": "2024-01-16T13:38:37.417049",
     "exception": false,
     "start_time": "2024-01-16T13:38:37.385007",
     "status": "completed"
    },
    "tags": []
   },
   "outputs": [
    {
     "data": {
      "text/plain": [
       "False"
      ]
     },
     "execution_count": 6,
     "metadata": {},
     "output_type": "execute_result"
    }
   ],
   "source": [
    "list(data.columns.unique()) == list(data_test.columns.unique())"
   ]
  },
  {
   "cell_type": "markdown",
   "id": "0e2e0654",
   "metadata": {
    "papermill": {
     "duration": 0.019075,
     "end_time": "2024-01-16T13:38:37.456384",
     "exception": false,
     "start_time": "2024-01-16T13:38:37.437309",
     "status": "completed"
    },
    "tags": []
   },
   "source": [
    "## Handling missing data"
   ]
  },
  {
   "cell_type": "code",
   "execution_count": 7,
   "id": "c7ef6231",
   "metadata": {
    "execution": {
     "iopub.execute_input": "2024-01-16T13:38:37.501161Z",
     "iopub.status.busy": "2024-01-16T13:38:37.500719Z",
     "iopub.status.idle": "2024-01-16T13:38:37.513337Z",
     "shell.execute_reply": "2024-01-16T13:38:37.511784Z"
    },
    "papermill": {
     "duration": 0.038688,
     "end_time": "2024-01-16T13:38:37.516594",
     "exception": false,
     "start_time": "2024-01-16T13:38:37.477906",
     "status": "completed"
    },
    "tags": []
   },
   "outputs": [
    {
     "data": {
      "text/plain": [
       "MSSubClass         int64\n",
       "MSZoning          object\n",
       "LotFrontage      float64\n",
       "LotArea            int64\n",
       "Street            object\n",
       "                  ...   \n",
       "MoSold             int64\n",
       "YrSold             int64\n",
       "SaleType          object\n",
       "SaleCondition     object\n",
       "SalePrice          int64\n",
       "Length: 80, dtype: object"
      ]
     },
     "execution_count": 7,
     "metadata": {},
     "output_type": "execute_result"
    }
   ],
   "source": [
    "data.dtypes"
   ]
  },
  {
   "cell_type": "markdown",
   "id": "56ae563a",
   "metadata": {
    "papermill": {
     "duration": 0.018703,
     "end_time": "2024-01-16T13:38:37.555149",
     "exception": false,
     "start_time": "2024-01-16T13:38:37.536446",
     "status": "completed"
    },
    "tags": []
   },
   "source": [
    "### Numeric data"
   ]
  },
  {
   "cell_type": "code",
   "execution_count": 8,
   "id": "27ffcbde",
   "metadata": {
    "execution": {
     "iopub.execute_input": "2024-01-16T13:38:37.670006Z",
     "iopub.status.busy": "2024-01-16T13:38:37.669531Z",
     "iopub.status.idle": "2024-01-16T13:38:38.408853Z",
     "shell.execute_reply": "2024-01-16T13:38:38.407371Z"
    },
    "papermill": {
     "duration": 0.763699,
     "end_time": "2024-01-16T13:38:38.412076",
     "exception": false,
     "start_time": "2024-01-16T13:38:37.648377",
     "status": "completed"
    },
    "tags": []
   },
   "outputs": [],
   "source": [
    "import numpy as np\n",
    "from sklearn.impute import SimpleImputer\n",
    "imp_mean = SimpleImputer(missing_values=np.nan, strategy='mean')"
   ]
  },
  {
   "cell_type": "code",
   "execution_count": 9,
   "id": "946436f2",
   "metadata": {
    "execution": {
     "iopub.execute_input": "2024-01-16T13:38:38.452776Z",
     "iopub.status.busy": "2024-01-16T13:38:38.452243Z",
     "iopub.status.idle": "2024-01-16T13:38:38.486903Z",
     "shell.execute_reply": "2024-01-16T13:38:38.484983Z"
    },
    "papermill": {
     "duration": 0.060261,
     "end_time": "2024-01-16T13:38:38.491392",
     "exception": false,
     "start_time": "2024-01-16T13:38:38.431131",
     "status": "completed"
    },
    "tags": []
   },
   "outputs": [
    {
     "data": {
      "text/plain": [
       "Index(['MSSubClass', 'LotFrontage', 'LotArea', 'OverallQual', 'OverallCond',\n",
       "       'YearBuilt', 'YearRemodAdd', 'MasVnrArea', 'BsmtFinSF1', 'BsmtFinSF2',\n",
       "       'BsmtUnfSF', 'TotalBsmtSF', '1stFlrSF', '2ndFlrSF', 'LowQualFinSF',\n",
       "       'GrLivArea', 'BsmtFullBath', 'BsmtHalfBath', 'FullBath', 'HalfBath',\n",
       "       'BedroomAbvGr', 'KitchenAbvGr', 'TotRmsAbvGrd', 'Fireplaces',\n",
       "       'GarageYrBlt', 'GarageCars', 'GarageArea', 'WoodDeckSF', 'OpenPorchSF',\n",
       "       'EnclosedPorch', '3SsnPorch', 'ScreenPorch', 'PoolArea', 'MiscVal',\n",
       "       'MoSold', 'YrSold', 'SalePrice'],\n",
       "      dtype='object')"
      ]
     },
     "execution_count": 9,
     "metadata": {},
     "output_type": "execute_result"
    }
   ],
   "source": [
    "# Match a column dtype = int64 and float64\n",
    "numerical_cols = list(np.where((data.dtypes == np.int64) | (data.dtypes == np.float64))[0])\n",
    "imp_mean.fit(data.iloc[:,numerical_cols])\n",
    "data[data.columns[numerical_cols]] = imp_mean.transform(data.iloc[:,numerical_cols])\n",
    "data.columns[numerical_cols]"
   ]
  },
  {
   "cell_type": "code",
   "execution_count": 10,
   "id": "f4d470a7",
   "metadata": {
    "execution": {
     "iopub.execute_input": "2024-01-16T13:38:38.535280Z",
     "iopub.status.busy": "2024-01-16T13:38:38.534811Z",
     "iopub.status.idle": "2024-01-16T13:38:38.559964Z",
     "shell.execute_reply": "2024-01-16T13:38:38.558295Z"
    },
    "papermill": {
     "duration": 0.051358,
     "end_time": "2024-01-16T13:38:38.562995",
     "exception": false,
     "start_time": "2024-01-16T13:38:38.511637",
     "status": "completed"
    },
    "tags": []
   },
   "outputs": [
    {
     "data": {
      "text/plain": [
       "Index(['MSSubClass', 'LotFrontage', 'LotArea', 'OverallQual', 'OverallCond',\n",
       "       'YearBuilt', 'YearRemodAdd', 'MasVnrArea', 'BsmtFinSF1', 'BsmtFinSF2',\n",
       "       'BsmtUnfSF', 'TotalBsmtSF', '1stFlrSF', '2ndFlrSF', 'LowQualFinSF',\n",
       "       'GrLivArea', 'BsmtFullBath', 'BsmtHalfBath', 'FullBath', 'HalfBath',\n",
       "       'BedroomAbvGr', 'KitchenAbvGr', 'TotRmsAbvGrd', 'Fireplaces',\n",
       "       'GarageYrBlt', 'GarageCars', 'GarageArea', 'WoodDeckSF', 'OpenPorchSF',\n",
       "       'EnclosedPorch', '3SsnPorch', 'ScreenPorch', 'PoolArea', 'MiscVal',\n",
       "       'MoSold', 'YrSold'],\n",
       "      dtype='object')"
      ]
     },
     "execution_count": 10,
     "metadata": {},
     "output_type": "execute_result"
    }
   ],
   "source": [
    "numerical_cols_test = list(np.where((data_test.dtypes == np.int64) | (data_test.dtypes == np.float64))[0])\n",
    "imp_mean.fit(data_test.iloc[:,numerical_cols_test])\n",
    "data_test[data_test.columns[numerical_cols_test]] = imp_mean.transform(data_test.iloc[:,numerical_cols_test])\n",
    "data_test.columns[numerical_cols_test]"
   ]
  },
  {
   "cell_type": "markdown",
   "id": "345984e9",
   "metadata": {
    "papermill": {
     "duration": 0.020928,
     "end_time": "2024-01-16T13:38:38.604308",
     "exception": false,
     "start_time": "2024-01-16T13:38:38.583380",
     "status": "completed"
    },
    "tags": []
   },
   "source": [
    "### String data"
   ]
  },
  {
   "cell_type": "code",
   "execution_count": 11,
   "id": "fd8d5af5",
   "metadata": {
    "execution": {
     "iopub.execute_input": "2024-01-16T13:38:38.646955Z",
     "iopub.status.busy": "2024-01-16T13:38:38.646165Z",
     "iopub.status.idle": "2024-01-16T13:38:38.652159Z",
     "shell.execute_reply": "2024-01-16T13:38:38.650903Z"
    },
    "papermill": {
     "duration": 0.030996,
     "end_time": "2024-01-16T13:38:38.655426",
     "exception": false,
     "start_time": "2024-01-16T13:38:38.624430",
     "status": "completed"
    },
    "tags": []
   },
   "outputs": [],
   "source": [
    "imp_mean = SimpleImputer(missing_values=np.nan, strategy='constant')\n",
    "# imp_mean = SimpleImputer(missing_values=np.nan, strategy='most_frequent')"
   ]
  },
  {
   "cell_type": "code",
   "execution_count": 12,
   "id": "5dcc51a8",
   "metadata": {
    "execution": {
     "iopub.execute_input": "2024-01-16T13:38:38.701331Z",
     "iopub.status.busy": "2024-01-16T13:38:38.700923Z",
     "iopub.status.idle": "2024-01-16T13:38:38.731546Z",
     "shell.execute_reply": "2024-01-16T13:38:38.730115Z"
    },
    "papermill": {
     "duration": 0.056807,
     "end_time": "2024-01-16T13:38:38.735004",
     "exception": false,
     "start_time": "2024-01-16T13:38:38.678197",
     "status": "completed"
    },
    "tags": []
   },
   "outputs": [
    {
     "data": {
      "text/plain": [
       "Index(['MSZoning', 'Street', 'Alley', 'LotShape', 'LandContour', 'Utilities',\n",
       "       'LotConfig', 'LandSlope', 'Neighborhood', 'Condition1', 'Condition2',\n",
       "       'BldgType', 'HouseStyle', 'RoofStyle', 'RoofMatl', 'Exterior1st',\n",
       "       'Exterior2nd', 'MasVnrType', 'ExterQual', 'ExterCond', 'Foundation',\n",
       "       'BsmtQual', 'BsmtCond', 'BsmtExposure', 'BsmtFinType1', 'BsmtFinType2',\n",
       "       'Heating', 'HeatingQC', 'CentralAir', 'Electrical', 'KitchenQual',\n",
       "       'Functional', 'FireplaceQu', 'GarageType', 'GarageFinish', 'GarageQual',\n",
       "       'GarageCond', 'PavedDrive', 'PoolQC', 'Fence', 'MiscFeature',\n",
       "       'SaleType', 'SaleCondition'],\n",
       "      dtype='object')"
      ]
     },
     "execution_count": 12,
     "metadata": {},
     "output_type": "execute_result"
    }
   ],
   "source": [
    "# Match a column dtype = object\n",
    "string_cols = list(np.where((data.dtypes == object))[0])\n",
    "imp_mean.fit(data.iloc[:,string_cols])\n",
    "data[data.columns[string_cols]] = imp_mean.transform(data.iloc[:,string_cols])\n",
    "data.columns[string_cols]"
   ]
  },
  {
   "cell_type": "code",
   "execution_count": 13,
   "id": "49e2ddd4",
   "metadata": {
    "execution": {
     "iopub.execute_input": "2024-01-16T13:38:38.781225Z",
     "iopub.status.busy": "2024-01-16T13:38:38.780771Z",
     "iopub.status.idle": "2024-01-16T13:38:38.814390Z",
     "shell.execute_reply": "2024-01-16T13:38:38.812936Z"
    },
    "papermill": {
     "duration": 0.059442,
     "end_time": "2024-01-16T13:38:38.817237",
     "exception": false,
     "start_time": "2024-01-16T13:38:38.757795",
     "status": "completed"
    },
    "tags": []
   },
   "outputs": [
    {
     "data": {
      "text/plain": [
       "Index(['MSZoning', 'Street', 'Alley', 'LotShape', 'LandContour', 'Utilities',\n",
       "       'LotConfig', 'LandSlope', 'Neighborhood', 'Condition1', 'Condition2',\n",
       "       'BldgType', 'HouseStyle', 'RoofStyle', 'RoofMatl', 'Exterior1st',\n",
       "       'Exterior2nd', 'MasVnrType', 'ExterQual', 'ExterCond', 'Foundation',\n",
       "       'BsmtQual', 'BsmtCond', 'BsmtExposure', 'BsmtFinType1', 'BsmtFinType2',\n",
       "       'Heating', 'HeatingQC', 'CentralAir', 'Electrical', 'KitchenQual',\n",
       "       'Functional', 'FireplaceQu', 'GarageType', 'GarageFinish', 'GarageQual',\n",
       "       'GarageCond', 'PavedDrive', 'PoolQC', 'Fence', 'MiscFeature',\n",
       "       'SaleType', 'SaleCondition'],\n",
       "      dtype='object')"
      ]
     },
     "execution_count": 13,
     "metadata": {},
     "output_type": "execute_result"
    }
   ],
   "source": [
    "string_cols_test = list(np.where((data_test.dtypes == object))[0])\n",
    "imp_mean.fit(data_test.iloc[:,string_cols_test])\n",
    "data_test[data_test.columns[string_cols_test]] = imp_mean.transform(data_test.iloc[:,string_cols_test])\n",
    "data_test.columns[string_cols_test]"
   ]
  },
  {
   "cell_type": "markdown",
   "id": "582ef584",
   "metadata": {
    "papermill": {
     "duration": 0.019447,
     "end_time": "2024-01-16T13:38:38.857845",
     "exception": false,
     "start_time": "2024-01-16T13:38:38.838398",
     "status": "completed"
    },
    "tags": []
   },
   "source": [
    "Recheck the missing data"
   ]
  },
  {
   "cell_type": "code",
   "execution_count": 14,
   "id": "00d0b8c9",
   "metadata": {
    "execution": {
     "iopub.execute_input": "2024-01-16T13:38:38.899726Z",
     "iopub.status.busy": "2024-01-16T13:38:38.899212Z",
     "iopub.status.idle": "2024-01-16T13:38:38.932887Z",
     "shell.execute_reply": "2024-01-16T13:38:38.931306Z"
    },
    "papermill": {
     "duration": 0.058903,
     "end_time": "2024-01-16T13:38:38.936308",
     "exception": false,
     "start_time": "2024-01-16T13:38:38.877405",
     "status": "completed"
    },
    "tags": []
   },
   "outputs": [
    {
     "data": {
      "text/html": [
       "<div>\n",
       "<style scoped>\n",
       "    .dataframe tbody tr th:only-of-type {\n",
       "        vertical-align: middle;\n",
       "    }\n",
       "\n",
       "    .dataframe tbody tr th {\n",
       "        vertical-align: top;\n",
       "    }\n",
       "\n",
       "    .dataframe thead th {\n",
       "        text-align: right;\n",
       "    }\n",
       "</style>\n",
       "<table border=\"1\" class=\"dataframe\">\n",
       "  <thead>\n",
       "    <tr style=\"text-align: right;\">\n",
       "      <th></th>\n",
       "      <th>MSSubClass</th>\n",
       "      <th>MSZoning</th>\n",
       "      <th>LotFrontage</th>\n",
       "      <th>LotArea</th>\n",
       "      <th>Street</th>\n",
       "      <th>Alley</th>\n",
       "      <th>LotShape</th>\n",
       "      <th>LandContour</th>\n",
       "      <th>Utilities</th>\n",
       "      <th>LotConfig</th>\n",
       "      <th>...</th>\n",
       "      <th>PoolArea</th>\n",
       "      <th>PoolQC</th>\n",
       "      <th>Fence</th>\n",
       "      <th>MiscFeature</th>\n",
       "      <th>MiscVal</th>\n",
       "      <th>MoSold</th>\n",
       "      <th>YrSold</th>\n",
       "      <th>SaleType</th>\n",
       "      <th>SaleCondition</th>\n",
       "      <th>SalePrice</th>\n",
       "    </tr>\n",
       "    <tr>\n",
       "      <th>Id</th>\n",
       "      <th></th>\n",
       "      <th></th>\n",
       "      <th></th>\n",
       "      <th></th>\n",
       "      <th></th>\n",
       "      <th></th>\n",
       "      <th></th>\n",
       "      <th></th>\n",
       "      <th></th>\n",
       "      <th></th>\n",
       "      <th></th>\n",
       "      <th></th>\n",
       "      <th></th>\n",
       "      <th></th>\n",
       "      <th></th>\n",
       "      <th></th>\n",
       "      <th></th>\n",
       "      <th></th>\n",
       "      <th></th>\n",
       "      <th></th>\n",
       "      <th></th>\n",
       "    </tr>\n",
       "  </thead>\n",
       "  <tbody>\n",
       "  </tbody>\n",
       "</table>\n",
       "<p>0 rows × 80 columns</p>\n",
       "</div>"
      ],
      "text/plain": [
       "Empty DataFrame\n",
       "Columns: [MSSubClass, MSZoning, LotFrontage, LotArea, Street, Alley, LotShape, LandContour, Utilities, LotConfig, LandSlope, Neighborhood, Condition1, Condition2, BldgType, HouseStyle, OverallQual, OverallCond, YearBuilt, YearRemodAdd, RoofStyle, RoofMatl, Exterior1st, Exterior2nd, MasVnrType, MasVnrArea, ExterQual, ExterCond, Foundation, BsmtQual, BsmtCond, BsmtExposure, BsmtFinType1, BsmtFinSF1, BsmtFinType2, BsmtFinSF2, BsmtUnfSF, TotalBsmtSF, Heating, HeatingQC, CentralAir, Electrical, 1stFlrSF, 2ndFlrSF, LowQualFinSF, GrLivArea, BsmtFullBath, BsmtHalfBath, FullBath, HalfBath, BedroomAbvGr, KitchenAbvGr, KitchenQual, TotRmsAbvGrd, Functional, Fireplaces, FireplaceQu, GarageType, GarageYrBlt, GarageFinish, GarageCars, GarageArea, GarageQual, GarageCond, PavedDrive, WoodDeckSF, OpenPorchSF, EnclosedPorch, 3SsnPorch, ScreenPorch, PoolArea, PoolQC, Fence, MiscFeature, MiscVal, MoSold, YrSold, SaleType, SaleCondition, SalePrice]\n",
       "Index: []\n",
       "\n",
       "[0 rows x 80 columns]"
      ]
     },
     "execution_count": 14,
     "metadata": {},
     "output_type": "execute_result"
    }
   ],
   "source": [
    "data[data[data.columns[-1]].isna()]"
   ]
  },
  {
   "cell_type": "code",
   "execution_count": 15,
   "id": "3228c310",
   "metadata": {
    "execution": {
     "iopub.execute_input": "2024-01-16T13:38:38.982980Z",
     "iopub.status.busy": "2024-01-16T13:38:38.982127Z",
     "iopub.status.idle": "2024-01-16T13:38:39.003462Z",
     "shell.execute_reply": "2024-01-16T13:38:39.002153Z"
    },
    "papermill": {
     "duration": 0.048623,
     "end_time": "2024-01-16T13:38:39.006811",
     "exception": false,
     "start_time": "2024-01-16T13:38:38.958188",
     "status": "completed"
    },
    "tags": []
   },
   "outputs": [
    {
     "data": {
      "text/html": [
       "<div>\n",
       "<style scoped>\n",
       "    .dataframe tbody tr th:only-of-type {\n",
       "        vertical-align: middle;\n",
       "    }\n",
       "\n",
       "    .dataframe tbody tr th {\n",
       "        vertical-align: top;\n",
       "    }\n",
       "\n",
       "    .dataframe thead th {\n",
       "        text-align: right;\n",
       "    }\n",
       "</style>\n",
       "<table border=\"1\" class=\"dataframe\">\n",
       "  <thead>\n",
       "    <tr style=\"text-align: right;\">\n",
       "      <th></th>\n",
       "      <th>MSSubClass</th>\n",
       "      <th>MSZoning</th>\n",
       "      <th>LotFrontage</th>\n",
       "      <th>LotArea</th>\n",
       "      <th>Street</th>\n",
       "      <th>Alley</th>\n",
       "      <th>LotShape</th>\n",
       "      <th>LandContour</th>\n",
       "      <th>Utilities</th>\n",
       "      <th>LotConfig</th>\n",
       "      <th>...</th>\n",
       "      <th>ScreenPorch</th>\n",
       "      <th>PoolArea</th>\n",
       "      <th>PoolQC</th>\n",
       "      <th>Fence</th>\n",
       "      <th>MiscFeature</th>\n",
       "      <th>MiscVal</th>\n",
       "      <th>MoSold</th>\n",
       "      <th>YrSold</th>\n",
       "      <th>SaleType</th>\n",
       "      <th>SaleCondition</th>\n",
       "    </tr>\n",
       "    <tr>\n",
       "      <th>Id</th>\n",
       "      <th></th>\n",
       "      <th></th>\n",
       "      <th></th>\n",
       "      <th></th>\n",
       "      <th></th>\n",
       "      <th></th>\n",
       "      <th></th>\n",
       "      <th></th>\n",
       "      <th></th>\n",
       "      <th></th>\n",
       "      <th></th>\n",
       "      <th></th>\n",
       "      <th></th>\n",
       "      <th></th>\n",
       "      <th></th>\n",
       "      <th></th>\n",
       "      <th></th>\n",
       "      <th></th>\n",
       "      <th></th>\n",
       "      <th></th>\n",
       "      <th></th>\n",
       "    </tr>\n",
       "  </thead>\n",
       "  <tbody>\n",
       "  </tbody>\n",
       "</table>\n",
       "<p>0 rows × 79 columns</p>\n",
       "</div>"
      ],
      "text/plain": [
       "Empty DataFrame\n",
       "Columns: [MSSubClass, MSZoning, LotFrontage, LotArea, Street, Alley, LotShape, LandContour, Utilities, LotConfig, LandSlope, Neighborhood, Condition1, Condition2, BldgType, HouseStyle, OverallQual, OverallCond, YearBuilt, YearRemodAdd, RoofStyle, RoofMatl, Exterior1st, Exterior2nd, MasVnrType, MasVnrArea, ExterQual, ExterCond, Foundation, BsmtQual, BsmtCond, BsmtExposure, BsmtFinType1, BsmtFinSF1, BsmtFinType2, BsmtFinSF2, BsmtUnfSF, TotalBsmtSF, Heating, HeatingQC, CentralAir, Electrical, 1stFlrSF, 2ndFlrSF, LowQualFinSF, GrLivArea, BsmtFullBath, BsmtHalfBath, FullBath, HalfBath, BedroomAbvGr, KitchenAbvGr, KitchenQual, TotRmsAbvGrd, Functional, Fireplaces, FireplaceQu, GarageType, GarageYrBlt, GarageFinish, GarageCars, GarageArea, GarageQual, GarageCond, PavedDrive, WoodDeckSF, OpenPorchSF, EnclosedPorch, 3SsnPorch, ScreenPorch, PoolArea, PoolQC, Fence, MiscFeature, MiscVal, MoSold, YrSold, SaleType, SaleCondition]\n",
       "Index: []\n",
       "\n",
       "[0 rows x 79 columns]"
      ]
     },
     "execution_count": 15,
     "metadata": {},
     "output_type": "execute_result"
    }
   ],
   "source": [
    "data_test[data_test[data_test.columns[-1]].isna()]"
   ]
  },
  {
   "cell_type": "code",
   "execution_count": 16,
   "id": "471539bb",
   "metadata": {
    "execution": {
     "iopub.execute_input": "2024-01-16T13:38:39.057520Z",
     "iopub.status.busy": "2024-01-16T13:38:39.057089Z",
     "iopub.status.idle": "2024-01-16T13:38:39.065102Z",
     "shell.execute_reply": "2024-01-16T13:38:39.063640Z"
    },
    "papermill": {
     "duration": 0.036558,
     "end_time": "2024-01-16T13:38:39.068151",
     "exception": false,
     "start_time": "2024-01-16T13:38:39.031593",
     "status": "completed"
    },
    "tags": []
   },
   "outputs": [
    {
     "data": {
      "text/plain": [
       "Index(['MSZoning', 'Street', 'Alley', 'LotShape', 'LandContour', 'Utilities',\n",
       "       'LotConfig', 'LandSlope', 'Neighborhood', 'Condition1', 'Condition2',\n",
       "       'BldgType', 'HouseStyle', 'RoofStyle', 'RoofMatl', 'Exterior1st',\n",
       "       'Exterior2nd', 'MasVnrType', 'ExterQual', 'ExterCond', 'Foundation',\n",
       "       'BsmtQual', 'BsmtCond', 'BsmtExposure', 'BsmtFinType1', 'BsmtFinType2',\n",
       "       'Heating', 'HeatingQC', 'CentralAir', 'Electrical', 'KitchenQual',\n",
       "       'Functional', 'FireplaceQu', 'GarageType', 'GarageFinish', 'GarageQual',\n",
       "       'GarageCond', 'PavedDrive', 'PoolQC', 'Fence', 'MiscFeature',\n",
       "       'SaleType', 'SaleCondition'],\n",
       "      dtype='object')"
      ]
     },
     "execution_count": 16,
     "metadata": {},
     "output_type": "execute_result"
    }
   ],
   "source": [
    "string_cols_names = data.columns[string_cols].copy()\n",
    "string_cols_names"
   ]
  },
  {
   "cell_type": "markdown",
   "id": "28539a0b",
   "metadata": {
    "papermill": {
     "duration": 0.02227,
     "end_time": "2024-01-16T13:38:39.112249",
     "exception": false,
     "start_time": "2024-01-16T13:38:39.089979",
     "status": "completed"
    },
    "tags": []
   },
   "source": [
    "## Encoding"
   ]
  },
  {
   "cell_type": "code",
   "execution_count": 17,
   "id": "d113b5ab",
   "metadata": {
    "execution": {
     "iopub.execute_input": "2024-01-16T13:38:39.161820Z",
     "iopub.status.busy": "2024-01-16T13:38:39.160941Z",
     "iopub.status.idle": "2024-01-16T13:38:39.169378Z",
     "shell.execute_reply": "2024-01-16T13:38:39.167692Z"
    },
    "papermill": {
     "duration": 0.03657,
     "end_time": "2024-01-16T13:38:39.172436",
     "exception": false,
     "start_time": "2024-01-16T13:38:39.135866",
     "status": "completed"
    },
    "tags": []
   },
   "outputs": [],
   "source": [
    "from sklearn.preprocessing import LabelEncoder\n",
    "def encoding(data, string_col_list, threshold=10):\n",
    "    for col in string_col_list:\n",
    "#         length = len(data[col].unique())\n",
    "#         if length == 2 or length > threshold:\n",
    "        print(f\"Label encoding for column: {col}\")\n",
    "        label_encoder = LabelEncoder()\n",
    "        data[col] = label_encoder.fit_transform(data[col])\n",
    "#         else:\n",
    "#             print(f\"One-hot encoding for column: {col}\")\n",
    "#             data = pd.get_dummies(data, columns=[col])\n",
    "\n",
    "    return data"
   ]
  },
  {
   "cell_type": "code",
   "execution_count": 18,
   "id": "9f748b56",
   "metadata": {
    "execution": {
     "iopub.execute_input": "2024-01-16T13:38:39.239268Z",
     "iopub.status.busy": "2024-01-16T13:38:39.238144Z",
     "iopub.status.idle": "2024-01-16T13:38:39.281983Z",
     "shell.execute_reply": "2024-01-16T13:38:39.280438Z"
    },
    "papermill": {
     "duration": 0.090719,
     "end_time": "2024-01-16T13:38:39.288868",
     "exception": false,
     "start_time": "2024-01-16T13:38:39.198149",
     "status": "completed"
    },
    "tags": []
   },
   "outputs": [
    {
     "name": "stdout",
     "output_type": "stream",
     "text": [
      "Label encoding for column: MSZoning\n",
      "Label encoding for column: Street\n",
      "Label encoding for column: Alley\n",
      "Label encoding for column: LotShape\n",
      "Label encoding for column: LandContour\n",
      "Label encoding for column: Utilities\n",
      "Label encoding for column: LotConfig\n",
      "Label encoding for column: LandSlope\n",
      "Label encoding for column: Neighborhood\n",
      "Label encoding for column: Condition1\n",
      "Label encoding for column: Condition2\n",
      "Label encoding for column: BldgType\n",
      "Label encoding for column: HouseStyle\n",
      "Label encoding for column: RoofStyle\n",
      "Label encoding for column: RoofMatl\n",
      "Label encoding for column: Exterior1st\n",
      "Label encoding for column: Exterior2nd\n",
      "Label encoding for column: MasVnrType\n",
      "Label encoding for column: ExterQual\n",
      "Label encoding for column: ExterCond\n",
      "Label encoding for column: Foundation\n",
      "Label encoding for column: BsmtQual\n",
      "Label encoding for column: BsmtCond\n",
      "Label encoding for column: BsmtExposure\n",
      "Label encoding for column: BsmtFinType1\n",
      "Label encoding for column: BsmtFinType2\n",
      "Label encoding for column: Heating\n",
      "Label encoding for column: HeatingQC\n",
      "Label encoding for column: CentralAir\n",
      "Label encoding for column: Electrical\n",
      "Label encoding for column: KitchenQual\n",
      "Label encoding for column: Functional\n",
      "Label encoding for column: FireplaceQu\n",
      "Label encoding for column: GarageType\n",
      "Label encoding for column: GarageFinish\n",
      "Label encoding for column: GarageQual\n",
      "Label encoding for column: GarageCond\n",
      "Label encoding for column: PavedDrive\n",
      "Label encoding for column: PoolQC\n",
      "Label encoding for column: Fence\n",
      "Label encoding for column: MiscFeature\n",
      "Label encoding for column: SaleType\n",
      "Label encoding for column: SaleCondition\n"
     ]
    }
   ],
   "source": [
    "temp = encoding(data,string_cols_names)"
   ]
  },
  {
   "cell_type": "code",
   "execution_count": 19,
   "id": "b055aef6",
   "metadata": {
    "execution": {
     "iopub.execute_input": "2024-01-16T13:38:39.349720Z",
     "iopub.status.busy": "2024-01-16T13:38:39.348834Z",
     "iopub.status.idle": "2024-01-16T13:38:39.356247Z",
     "shell.execute_reply": "2024-01-16T13:38:39.355149Z"
    },
    "papermill": {
     "duration": 0.044441,
     "end_time": "2024-01-16T13:38:39.361258",
     "exception": false,
     "start_time": "2024-01-16T13:38:39.316817",
     "status": "completed"
    },
    "tags": []
   },
   "outputs": [
    {
     "data": {
      "text/plain": [
       "(1460, 80)"
      ]
     },
     "execution_count": 19,
     "metadata": {},
     "output_type": "execute_result"
    }
   ],
   "source": [
    "temp.shape"
   ]
  },
  {
   "cell_type": "code",
   "execution_count": 20,
   "id": "d86eadd5",
   "metadata": {
    "execution": {
     "iopub.execute_input": "2024-01-16T13:38:39.420094Z",
     "iopub.status.busy": "2024-01-16T13:38:39.418823Z",
     "iopub.status.idle": "2024-01-16T13:38:39.457270Z",
     "shell.execute_reply": "2024-01-16T13:38:39.455544Z"
    },
    "papermill": {
     "duration": 0.06753,
     "end_time": "2024-01-16T13:38:39.460520",
     "exception": false,
     "start_time": "2024-01-16T13:38:39.392990",
     "status": "completed"
    },
    "tags": []
   },
   "outputs": [
    {
     "name": "stdout",
     "output_type": "stream",
     "text": [
      "Label encoding for column: MSZoning\n",
      "Label encoding for column: Street\n",
      "Label encoding for column: Alley\n",
      "Label encoding for column: LotShape\n",
      "Label encoding for column: LandContour\n",
      "Label encoding for column: Utilities\n",
      "Label encoding for column: LotConfig\n",
      "Label encoding for column: LandSlope\n",
      "Label encoding for column: Neighborhood\n",
      "Label encoding for column: Condition1\n",
      "Label encoding for column: Condition2\n",
      "Label encoding for column: BldgType\n",
      "Label encoding for column: HouseStyle\n",
      "Label encoding for column: RoofStyle\n",
      "Label encoding for column: RoofMatl\n",
      "Label encoding for column: Exterior1st\n",
      "Label encoding for column: Exterior2nd\n",
      "Label encoding for column: MasVnrType\n",
      "Label encoding for column: ExterQual\n",
      "Label encoding for column: ExterCond\n",
      "Label encoding for column: Foundation\n",
      "Label encoding for column: BsmtQual\n",
      "Label encoding for column: BsmtCond\n",
      "Label encoding for column: BsmtExposure\n",
      "Label encoding for column: BsmtFinType1\n",
      "Label encoding for column: BsmtFinType2\n",
      "Label encoding for column: Heating\n",
      "Label encoding for column: HeatingQC\n",
      "Label encoding for column: CentralAir\n",
      "Label encoding for column: Electrical\n",
      "Label encoding for column: KitchenQual\n",
      "Label encoding for column: Functional\n",
      "Label encoding for column: FireplaceQu\n",
      "Label encoding for column: GarageType\n",
      "Label encoding for column: GarageFinish\n",
      "Label encoding for column: GarageQual\n",
      "Label encoding for column: GarageCond\n",
      "Label encoding for column: PavedDrive\n",
      "Label encoding for column: PoolQC\n",
      "Label encoding for column: Fence\n",
      "Label encoding for column: MiscFeature\n",
      "Label encoding for column: SaleType\n",
      "Label encoding for column: SaleCondition\n"
     ]
    }
   ],
   "source": [
    "temp_test = encoding(data_test,string_cols_names)"
   ]
  },
  {
   "cell_type": "code",
   "execution_count": 21,
   "id": "bcd20337",
   "metadata": {
    "execution": {
     "iopub.execute_input": "2024-01-16T13:38:39.514394Z",
     "iopub.status.busy": "2024-01-16T13:38:39.513598Z",
     "iopub.status.idle": "2024-01-16T13:38:39.520505Z",
     "shell.execute_reply": "2024-01-16T13:38:39.519532Z"
    },
    "papermill": {
     "duration": 0.038121,
     "end_time": "2024-01-16T13:38:39.523833",
     "exception": false,
     "start_time": "2024-01-16T13:38:39.485712",
     "status": "completed"
    },
    "tags": []
   },
   "outputs": [
    {
     "data": {
      "text/plain": [
       "(1459, 79)"
      ]
     },
     "execution_count": 21,
     "metadata": {},
     "output_type": "execute_result"
    }
   ],
   "source": [
    "temp_test.shape"
   ]
  },
  {
   "cell_type": "markdown",
   "id": "db4b4b05",
   "metadata": {
    "papermill": {
     "duration": 0.026102,
     "end_time": "2024-01-16T13:38:39.575278",
     "exception": false,
     "start_time": "2024-01-16T13:38:39.549176",
     "status": "completed"
    },
    "tags": []
   },
   "source": [
    "## Feature Selection"
   ]
  },
  {
   "cell_type": "markdown",
   "id": "9b225344",
   "metadata": {
    "papermill": {
     "duration": 0.034332,
     "end_time": "2024-01-16T13:38:39.643415",
     "exception": false,
     "start_time": "2024-01-16T13:38:39.609083",
     "status": "completed"
    },
    "tags": []
   },
   "source": [
    "- ### Correlation"
   ]
  },
  {
   "cell_type": "code",
   "execution_count": 22,
   "id": "c56ebd72",
   "metadata": {
    "execution": {
     "iopub.execute_input": "2024-01-16T13:38:39.698159Z",
     "iopub.status.busy": "2024-01-16T13:38:39.697427Z",
     "iopub.status.idle": "2024-01-16T13:38:39.770756Z",
     "shell.execute_reply": "2024-01-16T13:38:39.769377Z"
    },
    "papermill": {
     "duration": 0.105385,
     "end_time": "2024-01-16T13:38:39.774794",
     "exception": false,
     "start_time": "2024-01-16T13:38:39.669409",
     "status": "completed"
    },
    "tags": []
   },
   "outputs": [
    {
     "data": {
      "text/html": [
       "<div>\n",
       "<style scoped>\n",
       "    .dataframe tbody tr th:only-of-type {\n",
       "        vertical-align: middle;\n",
       "    }\n",
       "\n",
       "    .dataframe tbody tr th {\n",
       "        vertical-align: top;\n",
       "    }\n",
       "\n",
       "    .dataframe thead th {\n",
       "        text-align: right;\n",
       "    }\n",
       "</style>\n",
       "<table border=\"1\" class=\"dataframe\">\n",
       "  <thead>\n",
       "    <tr style=\"text-align: right;\">\n",
       "      <th></th>\n",
       "      <th>MSSubClass</th>\n",
       "      <th>MSZoning</th>\n",
       "      <th>LotFrontage</th>\n",
       "      <th>LotArea</th>\n",
       "      <th>Street</th>\n",
       "      <th>Alley</th>\n",
       "      <th>LotShape</th>\n",
       "      <th>LandContour</th>\n",
       "      <th>Utilities</th>\n",
       "      <th>LotConfig</th>\n",
       "      <th>...</th>\n",
       "      <th>PoolArea</th>\n",
       "      <th>PoolQC</th>\n",
       "      <th>Fence</th>\n",
       "      <th>MiscFeature</th>\n",
       "      <th>MiscVal</th>\n",
       "      <th>MoSold</th>\n",
       "      <th>YrSold</th>\n",
       "      <th>SaleType</th>\n",
       "      <th>SaleCondition</th>\n",
       "      <th>SalePrice</th>\n",
       "    </tr>\n",
       "  </thead>\n",
       "  <tbody>\n",
       "    <tr>\n",
       "      <th>MSSubClass</th>\n",
       "      <td>1.000000</td>\n",
       "      <td>0.035900</td>\n",
       "      <td>-0.357056</td>\n",
       "      <td>-0.139781</td>\n",
       "      <td>-0.024969</td>\n",
       "      <td>-0.105995</td>\n",
       "      <td>0.119289</td>\n",
       "      <td>-0.002940</td>\n",
       "      <td>-2.284384e-02</td>\n",
       "      <td>0.075910</td>\n",
       "      <td>...</td>\n",
       "      <td>0.008283</td>\n",
       "      <td>-0.005221</td>\n",
       "      <td>0.086360</td>\n",
       "      <td>0.034859</td>\n",
       "      <td>-0.007683</td>\n",
       "      <td>-0.013585</td>\n",
       "      <td>-0.021407</td>\n",
       "      <td>0.012464</td>\n",
       "      <td>-0.024940</td>\n",
       "      <td>-0.084284</td>\n",
       "    </tr>\n",
       "    <tr>\n",
       "      <th>MSZoning</th>\n",
       "      <td>0.035900</td>\n",
       "      <td>1.000000</td>\n",
       "      <td>-0.106363</td>\n",
       "      <td>-0.034452</td>\n",
       "      <td>0.087654</td>\n",
       "      <td>-0.052039</td>\n",
       "      <td>0.061887</td>\n",
       "      <td>-0.017854</td>\n",
       "      <td>-1.192034e-03</td>\n",
       "      <td>-0.009895</td>\n",
       "      <td>...</td>\n",
       "      <td>-0.003128</td>\n",
       "      <td>0.002882</td>\n",
       "      <td>-0.061289</td>\n",
       "      <td>0.000673</td>\n",
       "      <td>0.009293</td>\n",
       "      <td>-0.031496</td>\n",
       "      <td>-0.020628</td>\n",
       "      <td>0.097437</td>\n",
       "      <td>0.009494</td>\n",
       "      <td>-0.166872</td>\n",
       "    </tr>\n",
       "    <tr>\n",
       "      <th>LotFrontage</th>\n",
       "      <td>-0.357056</td>\n",
       "      <td>-0.106363</td>\n",
       "      <td>1.000000</td>\n",
       "      <td>0.306795</td>\n",
       "      <td>-0.037323</td>\n",
       "      <td>0.133433</td>\n",
       "      <td>-0.144931</td>\n",
       "      <td>-0.075647</td>\n",
       "      <td>-5.447825e-18</td>\n",
       "      <td>-0.181253</td>\n",
       "      <td>...</td>\n",
       "      <td>0.180868</td>\n",
       "      <td>-0.191630</td>\n",
       "      <td>-0.036751</td>\n",
       "      <td>-0.005395</td>\n",
       "      <td>0.001168</td>\n",
       "      <td>0.010158</td>\n",
       "      <td>0.006768</td>\n",
       "      <td>-0.030846</td>\n",
       "      <td>0.058464</td>\n",
       "      <td>0.334901</td>\n",
       "    </tr>\n",
       "    <tr>\n",
       "      <th>LotArea</th>\n",
       "      <td>-0.139781</td>\n",
       "      <td>-0.034452</td>\n",
       "      <td>0.306795</td>\n",
       "      <td>1.000000</td>\n",
       "      <td>-0.197131</td>\n",
       "      <td>0.060105</td>\n",
       "      <td>-0.165315</td>\n",
       "      <td>-0.149083</td>\n",
       "      <td>1.012318e-02</td>\n",
       "      <td>-0.121161</td>\n",
       "      <td>...</td>\n",
       "      <td>0.077672</td>\n",
       "      <td>-0.065167</td>\n",
       "      <td>0.036031</td>\n",
       "      <td>-0.103544</td>\n",
       "      <td>0.038068</td>\n",
       "      <td>0.001205</td>\n",
       "      <td>-0.014261</td>\n",
       "      <td>0.012292</td>\n",
       "      <td>0.034169</td>\n",
       "      <td>0.263843</td>\n",
       "    </tr>\n",
       "    <tr>\n",
       "      <th>Street</th>\n",
       "      <td>-0.024969</td>\n",
       "      <td>0.087654</td>\n",
       "      <td>-0.037323</td>\n",
       "      <td>-0.197131</td>\n",
       "      <td>1.000000</td>\n",
       "      <td>-0.015720</td>\n",
       "      <td>-0.010224</td>\n",
       "      <td>0.115995</td>\n",
       "      <td>1.681767e-03</td>\n",
       "      <td>0.013960</td>\n",
       "      <td>...</td>\n",
       "      <td>0.004413</td>\n",
       "      <td>-0.004067</td>\n",
       "      <td>-0.029386</td>\n",
       "      <td>0.146712</td>\n",
       "      <td>-0.022733</td>\n",
       "      <td>0.003690</td>\n",
       "      <td>-0.025043</td>\n",
       "      <td>0.014339</td>\n",
       "      <td>0.006064</td>\n",
       "      <td>0.041036</td>\n",
       "    </tr>\n",
       "    <tr>\n",
       "      <th>...</th>\n",
       "      <td>...</td>\n",
       "      <td>...</td>\n",
       "      <td>...</td>\n",
       "      <td>...</td>\n",
       "      <td>...</td>\n",
       "      <td>...</td>\n",
       "      <td>...</td>\n",
       "      <td>...</td>\n",
       "      <td>...</td>\n",
       "      <td>...</td>\n",
       "      <td>...</td>\n",
       "      <td>...</td>\n",
       "      <td>...</td>\n",
       "      <td>...</td>\n",
       "      <td>...</td>\n",
       "      <td>...</td>\n",
       "      <td>...</td>\n",
       "      <td>...</td>\n",
       "      <td>...</td>\n",
       "      <td>...</td>\n",
       "      <td>...</td>\n",
       "    </tr>\n",
       "    <tr>\n",
       "      <th>MoSold</th>\n",
       "      <td>-0.013585</td>\n",
       "      <td>-0.031496</td>\n",
       "      <td>0.010158</td>\n",
       "      <td>0.001205</td>\n",
       "      <td>0.003690</td>\n",
       "      <td>0.013094</td>\n",
       "      <td>-0.033455</td>\n",
       "      <td>-0.011599</td>\n",
       "      <td>-5.155166e-02</td>\n",
       "      <td>0.018902</td>\n",
       "      <td>...</td>\n",
       "      <td>-0.033737</td>\n",
       "      <td>0.036368</td>\n",
       "      <td>-0.009892</td>\n",
       "      <td>-0.014193</td>\n",
       "      <td>-0.006495</td>\n",
       "      <td>1.000000</td>\n",
       "      <td>-0.145721</td>\n",
       "      <td>-0.047386</td>\n",
       "      <td>0.013320</td>\n",
       "      <td>0.046432</td>\n",
       "    </tr>\n",
       "    <tr>\n",
       "      <th>YrSold</th>\n",
       "      <td>-0.021407</td>\n",
       "      <td>-0.020628</td>\n",
       "      <td>0.006768</td>\n",
       "      <td>-0.014261</td>\n",
       "      <td>-0.025043</td>\n",
       "      <td>0.020944</td>\n",
       "      <td>0.036449</td>\n",
       "      <td>0.020507</td>\n",
       "      <td>2.335254e-02</td>\n",
       "      <td>-0.005992</td>\n",
       "      <td>...</td>\n",
       "      <td>-0.059689</td>\n",
       "      <td>0.060904</td>\n",
       "      <td>-0.035366</td>\n",
       "      <td>-0.055962</td>\n",
       "      <td>0.004906</td>\n",
       "      <td>-0.145721</td>\n",
       "      <td>1.000000</td>\n",
       "      <td>-0.002327</td>\n",
       "      <td>0.003880</td>\n",
       "      <td>-0.028923</td>\n",
       "    </tr>\n",
       "    <tr>\n",
       "      <th>SaleType</th>\n",
       "      <td>0.012464</td>\n",
       "      <td>0.097437</td>\n",
       "      <td>-0.030846</td>\n",
       "      <td>0.012292</td>\n",
       "      <td>0.014339</td>\n",
       "      <td>0.008205</td>\n",
       "      <td>-0.000911</td>\n",
       "      <td>-0.025754</td>\n",
       "      <td>-1.267697e-01</td>\n",
       "      <td>0.014325</td>\n",
       "      <td>...</td>\n",
       "      <td>0.011009</td>\n",
       "      <td>-0.013592</td>\n",
       "      <td>-0.006154</td>\n",
       "      <td>-0.003311</td>\n",
       "      <td>0.015773</td>\n",
       "      <td>-0.047386</td>\n",
       "      <td>-0.002327</td>\n",
       "      <td>1.000000</td>\n",
       "      <td>0.184067</td>\n",
       "      <td>-0.054911</td>\n",
       "    </tr>\n",
       "    <tr>\n",
       "      <th>SaleCondition</th>\n",
       "      <td>-0.024940</td>\n",
       "      <td>0.009494</td>\n",
       "      <td>0.058464</td>\n",
       "      <td>0.034169</td>\n",
       "      <td>0.006064</td>\n",
       "      <td>0.035717</td>\n",
       "      <td>-0.038118</td>\n",
       "      <td>0.033809</td>\n",
       "      <td>-8.970068e-02</td>\n",
       "      <td>0.051579</td>\n",
       "      <td>...</td>\n",
       "      <td>-0.067251</td>\n",
       "      <td>0.097425</td>\n",
       "      <td>0.100675</td>\n",
       "      <td>0.003192</td>\n",
       "      <td>0.013027</td>\n",
       "      <td>0.013320</td>\n",
       "      <td>0.003880</td>\n",
       "      <td>0.184067</td>\n",
       "      <td>1.000000</td>\n",
       "      <td>0.213092</td>\n",
       "    </tr>\n",
       "    <tr>\n",
       "      <th>SalePrice</th>\n",
       "      <td>-0.084284</td>\n",
       "      <td>-0.166872</td>\n",
       "      <td>0.334901</td>\n",
       "      <td>0.263843</td>\n",
       "      <td>0.041036</td>\n",
       "      <td>0.139868</td>\n",
       "      <td>-0.255580</td>\n",
       "      <td>0.015453</td>\n",
       "      <td>-1.431430e-02</td>\n",
       "      <td>-0.067396</td>\n",
       "      <td>...</td>\n",
       "      <td>0.092404</td>\n",
       "      <td>-0.126070</td>\n",
       "      <td>0.140640</td>\n",
       "      <td>0.073609</td>\n",
       "      <td>-0.021190</td>\n",
       "      <td>0.046432</td>\n",
       "      <td>-0.028923</td>\n",
       "      <td>-0.054911</td>\n",
       "      <td>0.213092</td>\n",
       "      <td>1.000000</td>\n",
       "    </tr>\n",
       "  </tbody>\n",
       "</table>\n",
       "<p>80 rows × 80 columns</p>\n",
       "</div>"
      ],
      "text/plain": [
       "               MSSubClass  MSZoning  LotFrontage   LotArea    Street  \\\n",
       "MSSubClass       1.000000  0.035900    -0.357056 -0.139781 -0.024969   \n",
       "MSZoning         0.035900  1.000000    -0.106363 -0.034452  0.087654   \n",
       "LotFrontage     -0.357056 -0.106363     1.000000  0.306795 -0.037323   \n",
       "LotArea         -0.139781 -0.034452     0.306795  1.000000 -0.197131   \n",
       "Street          -0.024969  0.087654    -0.037323 -0.197131  1.000000   \n",
       "...                   ...       ...          ...       ...       ...   \n",
       "MoSold          -0.013585 -0.031496     0.010158  0.001205  0.003690   \n",
       "YrSold          -0.021407 -0.020628     0.006768 -0.014261 -0.025043   \n",
       "SaleType         0.012464  0.097437    -0.030846  0.012292  0.014339   \n",
       "SaleCondition   -0.024940  0.009494     0.058464  0.034169  0.006064   \n",
       "SalePrice       -0.084284 -0.166872     0.334901  0.263843  0.041036   \n",
       "\n",
       "                  Alley  LotShape  LandContour     Utilities  LotConfig  ...  \\\n",
       "MSSubClass    -0.105995  0.119289    -0.002940 -2.284384e-02   0.075910  ...   \n",
       "MSZoning      -0.052039  0.061887    -0.017854 -1.192034e-03  -0.009895  ...   \n",
       "LotFrontage    0.133433 -0.144931    -0.075647 -5.447825e-18  -0.181253  ...   \n",
       "LotArea        0.060105 -0.165315    -0.149083  1.012318e-02  -0.121161  ...   \n",
       "Street        -0.015720 -0.010224     0.115995  1.681767e-03   0.013960  ...   \n",
       "...                 ...       ...          ...           ...        ...  ...   \n",
       "MoSold         0.013094 -0.033455    -0.011599 -5.155166e-02   0.018902  ...   \n",
       "YrSold         0.020944  0.036449     0.020507  2.335254e-02  -0.005992  ...   \n",
       "SaleType       0.008205 -0.000911    -0.025754 -1.267697e-01   0.014325  ...   \n",
       "SaleCondition  0.035717 -0.038118     0.033809 -8.970068e-02   0.051579  ...   \n",
       "SalePrice      0.139868 -0.255580     0.015453 -1.431430e-02  -0.067396  ...   \n",
       "\n",
       "               PoolArea    PoolQC     Fence  MiscFeature   MiscVal    MoSold  \\\n",
       "MSSubClass     0.008283 -0.005221  0.086360     0.034859 -0.007683 -0.013585   \n",
       "MSZoning      -0.003128  0.002882 -0.061289     0.000673  0.009293 -0.031496   \n",
       "LotFrontage    0.180868 -0.191630 -0.036751    -0.005395  0.001168  0.010158   \n",
       "LotArea        0.077672 -0.065167  0.036031    -0.103544  0.038068  0.001205   \n",
       "Street         0.004413 -0.004067 -0.029386     0.146712 -0.022733  0.003690   \n",
       "...                 ...       ...       ...          ...       ...       ...   \n",
       "MoSold        -0.033737  0.036368 -0.009892    -0.014193 -0.006495  1.000000   \n",
       "YrSold        -0.059689  0.060904 -0.035366    -0.055962  0.004906 -0.145721   \n",
       "SaleType       0.011009 -0.013592 -0.006154    -0.003311  0.015773 -0.047386   \n",
       "SaleCondition -0.067251  0.097425  0.100675     0.003192  0.013027  0.013320   \n",
       "SalePrice      0.092404 -0.126070  0.140640     0.073609 -0.021190  0.046432   \n",
       "\n",
       "                 YrSold  SaleType  SaleCondition  SalePrice  \n",
       "MSSubClass    -0.021407  0.012464      -0.024940  -0.084284  \n",
       "MSZoning      -0.020628  0.097437       0.009494  -0.166872  \n",
       "LotFrontage    0.006768 -0.030846       0.058464   0.334901  \n",
       "LotArea       -0.014261  0.012292       0.034169   0.263843  \n",
       "Street        -0.025043  0.014339       0.006064   0.041036  \n",
       "...                 ...       ...            ...        ...  \n",
       "MoSold        -0.145721 -0.047386       0.013320   0.046432  \n",
       "YrSold         1.000000 -0.002327       0.003880  -0.028923  \n",
       "SaleType      -0.002327  1.000000       0.184067  -0.054911  \n",
       "SaleCondition  0.003880  0.184067       1.000000   0.213092  \n",
       "SalePrice     -0.028923 -0.054911       0.213092   1.000000  \n",
       "\n",
       "[80 rows x 80 columns]"
      ]
     },
     "execution_count": 22,
     "metadata": {},
     "output_type": "execute_result"
    }
   ],
   "source": [
    "temp.corr()"
   ]
  },
  {
   "cell_type": "code",
   "execution_count": 23,
   "id": "3c15b386",
   "metadata": {
    "execution": {
     "iopub.execute_input": "2024-01-16T13:38:39.827671Z",
     "iopub.status.busy": "2024-01-16T13:38:39.827221Z",
     "iopub.status.idle": "2024-01-16T13:38:40.834338Z",
     "shell.execute_reply": "2024-01-16T13:38:40.832575Z"
    },
    "papermill": {
     "duration": 1.037391,
     "end_time": "2024-01-16T13:38:40.838201",
     "exception": false,
     "start_time": "2024-01-16T13:38:39.800810",
     "status": "completed"
    },
    "tags": []
   },
   "outputs": [
    {
     "data": {
      "text/plain": [
       "<Axes: >"
      ]
     },
     "execution_count": 23,
     "metadata": {},
     "output_type": "execute_result"
    },
    {
     "data": {
      "image/png": "[encoded data removed]",
      "text/plain": [
       "<Figure size 640x480 with 2 Axes>"
      ]
     },
     "metadata": {},
     "output_type": "display_data"
    }
   ],
   "source": [
    "sns.heatmap(temp.corr())"
   ]
  },
  {
   "cell_type": "code",
   "execution_count": 24,
   "id": "0c7b1923",
   "metadata": {
    "execution": {
     "iopub.execute_input": "2024-01-16T13:38:40.895511Z",
     "iopub.status.busy": "2024-01-16T13:38:40.894140Z",
     "iopub.status.idle": "2024-01-16T13:38:40.941680Z",
     "shell.execute_reply": "2024-01-16T13:38:40.939918Z"
    },
    "papermill": {
     "duration": 0.080306,
     "end_time": "2024-01-16T13:38:40.945514",
     "exception": false,
     "start_time": "2024-01-16T13:38:40.865208",
     "status": "completed"
    },
    "tags": []
   },
   "outputs": [
    {
     "data": {
      "text/plain": [
       "{'MSSubClass': -0.08428413512659531,\n",
       " 'MSZoning': -0.16687220265320643,\n",
       " 'LotFrontage': 0.3349008515405508,\n",
       " 'LotArea': 0.2638433538714057,\n",
       " 'Street': 0.04103553550004948,\n",
       " 'Alley': 0.13986774969168472,\n",
       " 'LotShape': -0.25557987048712216,\n",
       " 'LandContour': 0.015453241660960343,\n",
       " 'Utilities': -0.014314296147248806,\n",
       " 'LotConfig': -0.06739602315941742,\n",
       " 'LandSlope': 0.05115224817946654,\n",
       " 'Neighborhood': 0.21085146582230319,\n",
       " 'Condition1': 0.09115491154092832,\n",
       " 'Condition2': 0.007512734036333065,\n",
       " 'BldgType': -0.08559060818352929,\n",
       " 'HouseStyle': 0.18016262334399105,\n",
       " 'OverallQual': 0.7909816005838044,\n",
       " 'OverallCond': -0.07785589404867803,\n",
       " 'YearBuilt': 0.5228973328794969,\n",
       " 'YearRemodAdd': 0.5071009671113864,\n",
       " 'RoofStyle': 0.2224052924071383,\n",
       " 'RoofMatl': 0.13238311192778812,\n",
       " 'Exterior1st': 0.10355101119090569,\n",
       " 'Exterior2nd': 0.10376553702965834,\n",
       " 'MasVnrType': -0.28155385812500966,\n",
       " 'MasVnrArea': 0.47524131677366865,\n",
       " 'ExterQual': -0.6368836943991134,\n",
       " 'ExterCond': 0.11730265704316553,\n",
       " 'Foundation': 0.38247899119010176,\n",
       " 'BsmtQual': -0.6208861300191701,\n",
       " 'BsmtCond': 0.015058006077546232,\n",
       " 'BsmtExposure': -0.3090428350660052,\n",
       " 'BsmtFinType1': -0.1031137053643145,\n",
       " 'BsmtFinSF1': 0.3864198062421532,\n",
       " 'BsmtFinType2': 0.008040995809556114,\n",
       " 'BsmtFinSF2': -0.011378121450215127,\n",
       " 'BsmtUnfSF': 0.21447910554696892,\n",
       " 'TotalBsmtSF': 0.6135805515591956,\n",
       " 'Heating': -0.09881207599757647,\n",
       " 'HeatingQC': -0.4001775431629005,\n",
       " 'CentralAir': 0.25132816384015527,\n",
       " 'Electrical': 0.2347158406566399,\n",
       " '1stFlrSF': 0.6058521846919147,\n",
       " '2ndFlrSF': 0.3193338028320681,\n",
       " 'LowQualFinSF': -0.025606130000679593,\n",
       " 'GrLivArea': 0.7086244776126523,\n",
       " 'BsmtFullBath': 0.2271222331314938,\n",
       " 'BsmtHalfBath': -0.016844154297359016,\n",
       " 'FullBath': 0.5606637627484449,\n",
       " 'HalfBath': 0.2841076755947831,\n",
       " 'BedroomAbvGr': 0.16821315430073985,\n",
       " 'KitchenAbvGr': -0.13590737084214122,\n",
       " 'KitchenQual': -0.5891887782994201,\n",
       " 'TotRmsAbvGrd': 0.5337231555820282,\n",
       " 'Functional': 0.11532791708327816,\n",
       " 'Fireplaces': 0.4669288367515272,\n",
       " 'FireplaceQu': -0.4596051969209933,\n",
       " 'GarageType': -0.4152830684529038,\n",
       " 'GarageYrBlt': 0.4701774537404798,\n",
       " 'GarageFinish': -0.5492467563332116,\n",
       " 'GarageCars': 0.6404091972583529,\n",
       " 'GarageArea': 0.6234314389183618,\n",
       " 'GarageQual': 0.006861167418395287,\n",
       " 'GarageCond': 0.025149248099587487,\n",
       " 'PavedDrive': 0.2313569522572268,\n",
       " 'WoodDeckSF': 0.3244134445681295,\n",
       " 'OpenPorchSF': 0.31585622711605554,\n",
       " 'EnclosedPorch': -0.12857795792595653,\n",
       " '3SsnPorch': 0.04458366533574846,\n",
       " 'ScreenPorch': 0.11144657114291107,\n",
       " 'PoolArea': 0.09240354949187321,\n",
       " 'PoolQC': -0.12606973863532933,\n",
       " 'Fence': 0.14064034406951692,\n",
       " 'MiscFeature': 0.0736088198872436,\n",
       " 'MiscVal': -0.021189579640303255,\n",
       " 'MoSold': 0.04643224522381938,\n",
       " 'YrSold': -0.028922585168730374,\n",
       " 'SaleType': -0.05491147712871207,\n",
       " 'SaleCondition': 0.21309202967780463,\n",
       " 'SalePrice': 1.0}"
      ]
     },
     "execution_count": 24,
     "metadata": {},
     "output_type": "execute_result"
    }
   ],
   "source": [
    "temp_dict = temp.corrwith(temp['SalePrice']).to_dict()\n",
    "temp_dict"
   ]
  },
  {
   "cell_type": "code",
   "execution_count": 25,
   "id": "d1f9d82e",
   "metadata": {
    "execution": {
     "iopub.execute_input": "2024-01-16T13:38:41.004808Z",
     "iopub.status.busy": "2024-01-16T13:38:41.003344Z",
     "iopub.status.idle": "2024-01-16T13:38:41.013172Z",
     "shell.execute_reply": "2024-01-16T13:38:41.011416Z"
    },
    "papermill": {
     "duration": 0.04237,
     "end_time": "2024-01-16T13:38:41.016742",
     "exception": false,
     "start_time": "2024-01-16T13:38:40.974372",
     "status": "completed"
    },
    "tags": []
   },
   "outputs": [],
   "source": [
    "# If select very high correlation will high rate to encouter to multicolinear feature\n",
    "# If drop very low correlation will increasing efficiency of training\n",
    "\n",
    "# fair_corr = { column:value for column,value in temp_dict.items() if value >0.5}\n",
    "fair_corr = {column: value for column, value in temp_dict.items() if 0.5 <= value <= 0.7 or -0.7 <= value <= -0.5}\n",
    "if fair_corr.keys() == 'SalePrice':\n",
    "    del fair_corr['SalePrice']"
   ]
  },
  {
   "cell_type": "code",
   "execution_count": 26,
   "id": "57d4d0e0",
   "metadata": {
    "execution": {
     "iopub.execute_input": "2024-01-16T13:38:41.071132Z",
     "iopub.status.busy": "2024-01-16T13:38:41.070677Z",
     "iopub.status.idle": "2024-01-16T13:38:41.077612Z",
     "shell.execute_reply": "2024-01-16T13:38:41.076345Z"
    },
    "papermill": {
     "duration": 0.036854,
     "end_time": "2024-01-16T13:38:41.080190",
     "exception": false,
     "start_time": "2024-01-16T13:38:41.043336",
     "status": "completed"
    },
    "tags": []
   },
   "outputs": [
    {
     "data": {
      "text/plain": [
       "{'YearBuilt': 0.5228973328794969,\n",
       " 'YearRemodAdd': 0.5071009671113864,\n",
       " 'ExterQual': -0.6368836943991134,\n",
       " 'BsmtQual': -0.6208861300191701,\n",
       " 'TotalBsmtSF': 0.6135805515591956,\n",
       " '1stFlrSF': 0.6058521846919147,\n",
       " 'FullBath': 0.5606637627484449,\n",
       " 'KitchenQual': -0.5891887782994201,\n",
       " 'TotRmsAbvGrd': 0.5337231555820282,\n",
       " 'GarageFinish': -0.5492467563332116,\n",
       " 'GarageCars': 0.6404091972583529,\n",
       " 'GarageArea': 0.6234314389183618}"
      ]
     },
     "execution_count": 26,
     "metadata": {},
     "output_type": "execute_result"
    }
   ],
   "source": [
    "fair_corr"
   ]
  },
  {
   "cell_type": "code",
   "execution_count": 27,
   "id": "8f65777e",
   "metadata": {
    "execution": {
     "iopub.execute_input": "2024-01-16T13:38:41.138606Z",
     "iopub.status.busy": "2024-01-16T13:38:41.137744Z",
     "iopub.status.idle": "2024-01-16T13:38:41.144758Z",
     "shell.execute_reply": "2024-01-16T13:38:41.143768Z"
    },
    "papermill": {
     "duration": 0.039684,
     "end_time": "2024-01-16T13:38:41.147331",
     "exception": false,
     "start_time": "2024-01-16T13:38:41.107647",
     "status": "completed"
    },
    "tags": []
   },
   "outputs": [
    {
     "data": {
      "text/plain": [
       "12"
      ]
     },
     "execution_count": 27,
     "metadata": {},
     "output_type": "execute_result"
    }
   ],
   "source": [
    "len(fair_corr)"
   ]
  },
  {
   "cell_type": "code",
   "execution_count": 28,
   "id": "4fe53e51",
   "metadata": {
    "execution": {
     "iopub.execute_input": "2024-01-16T13:38:41.204298Z",
     "iopub.status.busy": "2024-01-16T13:38:41.203660Z",
     "iopub.status.idle": "2024-01-16T13:38:41.209073Z",
     "shell.execute_reply": "2024-01-16T13:38:41.207998Z"
    },
    "papermill": {
     "duration": 0.037278,
     "end_time": "2024-01-16T13:38:41.212277",
     "exception": false,
     "start_time": "2024-01-16T13:38:41.174999",
     "status": "completed"
    },
    "tags": []
   },
   "outputs": [],
   "source": [
    "col_selected = list(fair_corr.keys())"
   ]
  },
  {
   "cell_type": "markdown",
   "id": "31573787",
   "metadata": {
    "papermill": {
     "duration": 0.029291,
     "end_time": "2024-01-16T13:38:41.269300",
     "exception": false,
     "start_time": "2024-01-16T13:38:41.240009",
     "status": "completed"
    },
    "tags": []
   },
   "source": [
    "- ### Mutal information"
   ]
  },
  {
   "cell_type": "code",
   "execution_count": 29,
   "id": "a2893027",
   "metadata": {
    "execution": {
     "iopub.execute_input": "2024-01-16T13:38:41.326630Z",
     "iopub.status.busy": "2024-01-16T13:38:41.326198Z",
     "iopub.status.idle": "2024-01-16T13:38:41.331478Z",
     "shell.execute_reply": "2024-01-16T13:38:41.330646Z"
    },
    "papermill": {
     "duration": 0.035722,
     "end_time": "2024-01-16T13:38:41.333703",
     "exception": false,
     "start_time": "2024-01-16T13:38:41.297981",
     "status": "completed"
    },
    "tags": []
   },
   "outputs": [],
   "source": [
    "discrete_features = temp.dtypes == int"
   ]
  },
  {
   "cell_type": "code",
   "execution_count": 30,
   "id": "3ba9be28",
   "metadata": {
    "execution": {
     "iopub.execute_input": "2024-01-16T13:38:41.392128Z",
     "iopub.status.busy": "2024-01-16T13:38:41.391643Z",
     "iopub.status.idle": "2024-01-16T13:38:41.397443Z",
     "shell.execute_reply": "2024-01-16T13:38:41.396144Z"
    },
    "papermill": {
     "duration": 0.038547,
     "end_time": "2024-01-16T13:38:41.400523",
     "exception": false,
     "start_time": "2024-01-16T13:38:41.361976",
     "status": "completed"
    },
    "tags": []
   },
   "outputs": [],
   "source": [
    "temp_y = data.SalePrice.copy()"
   ]
  },
  {
   "cell_type": "code",
   "execution_count": 31,
   "id": "69936901",
   "metadata": {
    "execution": {
     "iopub.execute_input": "2024-01-16T13:38:41.453100Z",
     "iopub.status.busy": "2024-01-16T13:38:41.452261Z",
     "iopub.status.idle": "2024-01-16T13:38:41.480395Z",
     "shell.execute_reply": "2024-01-16T13:38:41.478966Z"
    },
    "papermill": {
     "duration": 0.057667,
     "end_time": "2024-01-16T13:38:41.483535",
     "exception": false,
     "start_time": "2024-01-16T13:38:41.425868",
     "status": "completed"
    },
    "tags": []
   },
   "outputs": [],
   "source": [
    "from sklearn.feature_selection import mutual_info_regression\n",
    "def make_mi_scores(X, y, discrete_features):\n",
    "    mi_scores = mutual_info_regression(X, y, discrete_features=discrete_features)\n",
    "    mi_scores = pd.Series(mi_scores, name=\"MI Scores\", index=X.columns)\n",
    "    mi_scores = mi_scores.sort_values(ascending=False)\n",
    "    return mi_scores"
   ]
  },
  {
   "cell_type": "code",
   "execution_count": 32,
   "id": "273837e4",
   "metadata": {
    "execution": {
     "iopub.execute_input": "2024-01-16T13:38:41.537181Z",
     "iopub.status.busy": "2024-01-16T13:38:41.535219Z",
     "iopub.status.idle": "2024-01-16T13:38:42.676189Z",
     "shell.execute_reply": "2024-01-16T13:38:42.674575Z"
    },
    "papermill": {
     "duration": 1.171544,
     "end_time": "2024-01-16T13:38:42.679464",
     "exception": false,
     "start_time": "2024-01-16T13:38:41.507920",
     "status": "completed"
    },
    "tags": []
   },
   "outputs": [
    {
     "data": {
      "text/plain": [
       "OverallQual     5.569761e-01\n",
       "Neighborhood    5.283070e-01\n",
       "GrLivArea       4.841271e-01\n",
       "GarageCars      3.730245e-01\n",
       "TotalBsmtSF     3.681309e-01\n",
       "                    ...     \n",
       "Utilities       1.887379e-15\n",
       "PoolQC          0.000000e+00\n",
       "MoSold          0.000000e+00\n",
       "LowQualFinSF    0.000000e+00\n",
       "BsmtHalfBath    0.000000e+00\n",
       "Name: MI Scores, Length: 79, dtype: float64"
      ]
     },
     "execution_count": 32,
     "metadata": {},
     "output_type": "execute_result"
    }
   ],
   "source": [
    "mi_scores = make_mi_scores(temp, temp_y, discrete_features)\n",
    "mi_scores = mi_scores.drop('SalePrice', axis=0)\n",
    "mi_scores"
   ]
  },
  {
   "cell_type": "code",
   "execution_count": 33,
   "id": "fa38d7bc",
   "metadata": {
    "execution": {
     "iopub.execute_input": "2024-01-16T13:38:42.732409Z",
     "iopub.status.busy": "2024-01-16T13:38:42.731154Z",
     "iopub.status.idle": "2024-01-16T13:38:44.180808Z",
     "shell.execute_reply": "2024-01-16T13:38:44.179114Z"
    },
    "papermill": {
     "duration": 1.48009,
     "end_time": "2024-01-16T13:38:44.184456",
     "exception": false,
     "start_time": "2024-01-16T13:38:42.704366",
     "status": "completed"
    },
    "tags": []
   },
   "outputs": [
    {
     "data": {
      "image/png": "[encoded data removed]",
      "text/plain": [
       "<Figure size 800x2000 with 1 Axes>"
      ]
     },
     "metadata": {},
     "output_type": "display_data"
    }
   ],
   "source": [
    "def plot_mi_scores(scores):\n",
    "    scores = scores.sort_values(ascending=True)\n",
    "    width = np.arange(len(scores))\n",
    "    ticks = list(scores.index)\n",
    "    plt.barh(width, scores)\n",
    "    plt.yticks(width, ticks)\n",
    "    plt.title(\"Mutual Information Scores\")\n",
    "\n",
    "\n",
    "plt.figure(dpi=100, figsize=(8, 20))\n",
    "plot_mi_scores(mi_scores)"
   ]
  },
  {
   "cell_type": "code",
   "execution_count": 34,
   "id": "f5ffa469",
   "metadata": {
    "execution": {
     "iopub.execute_input": "2024-01-16T13:38:44.241102Z",
     "iopub.status.busy": "2024-01-16T13:38:44.240639Z",
     "iopub.status.idle": "2024-01-16T13:38:44.252134Z",
     "shell.execute_reply": "2024-01-16T13:38:44.250453Z"
    },
    "papermill": {
     "duration": 0.043715,
     "end_time": "2024-01-16T13:38:44.255150",
     "exception": false,
     "start_time": "2024-01-16T13:38:44.211435",
     "status": "completed"
    },
    "tags": []
   },
   "outputs": [
    {
     "name": "stdout",
     "output_type": "stream",
     "text": [
      "Lower threshold Value: 0.2803326171746072\n",
      "Upper threshold Value: 0.5207964106690447\n"
     ]
    }
   ],
   "source": [
    "# Calculate a threshold value, for example, the top 20% of features\n",
    "# threshold_percentile = 0.8\n",
    "# Upper threshold for soimtimes very high mutal information will may be very high correlation\n",
    "\n",
    "Lower_threshold_percentile = 0.85  # top 15% of features \n",
    "Upper_threshold_percentile = 0.985  # top 1.5% of features \n",
    "Lower_threshold_value = np.percentile(mi_scores, 100*Lower_threshold_percentile )\n",
    "Upper_threshold_value = np.percentile(mi_scores, 100*Upper_threshold_percentile)\n",
    "\n",
    "print(f\"Lower threshold Value: {Lower_threshold_value}\")\n",
    "print(f\"Upper threshold Value: {Upper_threshold_value}\")"
   ]
  },
  {
   "cell_type": "code",
   "execution_count": 35,
   "id": "85d0675e",
   "metadata": {
    "execution": {
     "iopub.execute_input": "2024-01-16T13:38:44.318858Z",
     "iopub.status.busy": "2024-01-16T13:38:44.317296Z",
     "iopub.status.idle": "2024-01-16T13:38:44.328458Z",
     "shell.execute_reply": "2024-01-16T13:38:44.327076Z"
    },
    "papermill": {
     "duration": 0.045334,
     "end_time": "2024-01-16T13:38:44.331180",
     "exception": false,
     "start_time": "2024-01-16T13:38:44.285846",
     "status": "completed"
    },
    "tags": []
   },
   "outputs": [
    {
     "data": {
      "text/plain": [
       "{'GrLivArea': 0.4841270708391656,\n",
       " 'GarageCars': 0.3730245208505576,\n",
       " 'TotalBsmtSF': 0.36813088699672747,\n",
       " 'YearBuilt': 0.36738130569346206,\n",
       " 'GarageArea': 0.3613287038563353,\n",
       " 'BsmtQual': 0.33653079409442044,\n",
       " 'ExterQual': 0.33073610953004806,\n",
       " 'KitchenQual': 0.32548158704771946,\n",
       " '1stFlrSF': 0.31194002485066497,\n",
       " 'GarageYrBlt': 0.2951785177005313}"
      ]
     },
     "execution_count": 35,
     "metadata": {},
     "output_type": "execute_result"
    }
   ],
   "source": [
    "score = mi_scores.to_dict()\n",
    "selected = {cols:values for cols,values in score.items() if values>Lower_threshold_value and values<Upper_threshold_value}\n",
    "selected"
   ]
  },
  {
   "cell_type": "code",
   "execution_count": 36,
   "id": "ec73d839",
   "metadata": {
    "execution": {
     "iopub.execute_input": "2024-01-16T13:38:44.394279Z",
     "iopub.status.busy": "2024-01-16T13:38:44.393735Z",
     "iopub.status.idle": "2024-01-16T13:38:44.402749Z",
     "shell.execute_reply": "2024-01-16T13:38:44.401373Z"
    },
    "papermill": {
     "duration": 0.044525,
     "end_time": "2024-01-16T13:38:44.405759",
     "exception": false,
     "start_time": "2024-01-16T13:38:44.361234",
     "status": "completed"
    },
    "tags": []
   },
   "outputs": [
    {
     "data": {
      "text/plain": [
       "10"
      ]
     },
     "execution_count": 36,
     "metadata": {},
     "output_type": "execute_result"
    }
   ],
   "source": [
    "len(selected)"
   ]
  },
  {
   "cell_type": "code",
   "execution_count": 37,
   "id": "93419182",
   "metadata": {
    "execution": {
     "iopub.execute_input": "2024-01-16T13:38:44.468505Z",
     "iopub.status.busy": "2024-01-16T13:38:44.468106Z",
     "iopub.status.idle": "2024-01-16T13:38:44.472772Z",
     "shell.execute_reply": "2024-01-16T13:38:44.471808Z"
    },
    "papermill": {
     "duration": 0.042133,
     "end_time": "2024-01-16T13:38:44.476810",
     "exception": false,
     "start_time": "2024-01-16T13:38:44.434677",
     "status": "completed"
    },
    "tags": []
   },
   "outputs": [],
   "source": [
    "mutual_feature = selected.keys()"
   ]
  },
  {
   "cell_type": "code",
   "execution_count": 38,
   "id": "3714a101",
   "metadata": {
    "execution": {
     "iopub.execute_input": "2024-01-16T13:38:44.544402Z",
     "iopub.status.busy": "2024-01-16T13:38:44.543288Z",
     "iopub.status.idle": "2024-01-16T13:38:44.550915Z",
     "shell.execute_reply": "2024-01-16T13:38:44.549770Z"
    },
    "papermill": {
     "duration": 0.044955,
     "end_time": "2024-01-16T13:38:44.554074",
     "exception": false,
     "start_time": "2024-01-16T13:38:44.509119",
     "status": "completed"
    },
    "tags": []
   },
   "outputs": [
    {
     "data": {
      "text/plain": [
       "dict_keys(['GrLivArea', 'GarageCars', 'TotalBsmtSF', 'YearBuilt', 'GarageArea', 'BsmtQual', 'ExterQual', 'KitchenQual', '1stFlrSF', 'GarageYrBlt'])"
      ]
     },
     "execution_count": 38,
     "metadata": {},
     "output_type": "execute_result"
    }
   ],
   "source": [
    "mutual_feature "
   ]
  },
  {
   "cell_type": "markdown",
   "id": "84819c34",
   "metadata": {
    "papermill": {
     "duration": 0.0343,
     "end_time": "2024-01-16T13:38:44.618670",
     "exception": false,
     "start_time": "2024-01-16T13:38:44.584370",
     "status": "completed"
    },
    "tags": []
   },
   "source": [
    "- ### Combine correlation and mutal information of feature selection"
   ]
  },
  {
   "cell_type": "code",
   "execution_count": 39,
   "id": "dad8121d",
   "metadata": {
    "execution": {
     "iopub.execute_input": "2024-01-16T13:38:44.681875Z",
     "iopub.status.busy": "2024-01-16T13:38:44.681413Z",
     "iopub.status.idle": "2024-01-16T13:38:44.686564Z",
     "shell.execute_reply": "2024-01-16T13:38:44.685378Z"
    },
    "papermill": {
     "duration": 0.040369,
     "end_time": "2024-01-16T13:38:44.689580",
     "exception": false,
     "start_time": "2024-01-16T13:38:44.649211",
     "status": "completed"
    },
    "tags": []
   },
   "outputs": [],
   "source": [
    "combine_feature = list(set(col_selected).union(set(mutual_feature)))"
   ]
  },
  {
   "cell_type": "code",
   "execution_count": 40,
   "id": "e570a4a9",
   "metadata": {
    "execution": {
     "iopub.execute_input": "2024-01-16T13:38:44.752510Z",
     "iopub.status.busy": "2024-01-16T13:38:44.752079Z",
     "iopub.status.idle": "2024-01-16T13:38:44.758566Z",
     "shell.execute_reply": "2024-01-16T13:38:44.757646Z"
    },
    "papermill": {
     "duration": 0.041218,
     "end_time": "2024-01-16T13:38:44.762007",
     "exception": false,
     "start_time": "2024-01-16T13:38:44.720789",
     "status": "completed"
    },
    "tags": []
   },
   "outputs": [
    {
     "data": {
      "text/plain": [
       "['TotalBsmtSF',\n",
       " 'GarageFinish',\n",
       " 'GarageArea',\n",
       " 'YearRemodAdd',\n",
       " 'FullBath',\n",
       " 'BsmtQual',\n",
       " 'GarageYrBlt',\n",
       " 'KitchenQual',\n",
       " 'GrLivArea',\n",
       " 'ExterQual',\n",
       " '1stFlrSF',\n",
       " 'TotRmsAbvGrd',\n",
       " 'YearBuilt',\n",
       " 'GarageCars']"
      ]
     },
     "execution_count": 40,
     "metadata": {},
     "output_type": "execute_result"
    }
   ],
   "source": [
    "combine_feature "
   ]
  },
  {
   "cell_type": "code",
   "execution_count": 41,
   "id": "5324971b",
   "metadata": {
    "execution": {
     "iopub.execute_input": "2024-01-16T13:38:44.825257Z",
     "iopub.status.busy": "2024-01-16T13:38:44.824822Z",
     "iopub.status.idle": "2024-01-16T13:38:44.832130Z",
     "shell.execute_reply": "2024-01-16T13:38:44.830777Z"
    },
    "papermill": {
     "duration": 0.042108,
     "end_time": "2024-01-16T13:38:44.834746",
     "exception": false,
     "start_time": "2024-01-16T13:38:44.792638",
     "status": "completed"
    },
    "tags": []
   },
   "outputs": [
    {
     "data": {
      "text/plain": [
       "14"
      ]
     },
     "execution_count": 41,
     "metadata": {},
     "output_type": "execute_result"
    }
   ],
   "source": [
    "len(combine_feature)"
   ]
  },
  {
   "cell_type": "code",
   "execution_count": 42,
   "id": "9fbf46d3",
   "metadata": {
    "execution": {
     "iopub.execute_input": "2024-01-16T13:38:44.895484Z",
     "iopub.status.busy": "2024-01-16T13:38:44.894999Z",
     "iopub.status.idle": "2024-01-16T13:38:44.906290Z",
     "shell.execute_reply": "2024-01-16T13:38:44.904618Z"
    },
    "papermill": {
     "duration": 0.045538,
     "end_time": "2024-01-16T13:38:44.909753",
     "exception": false,
     "start_time": "2024-01-16T13:38:44.864215",
     "status": "completed"
    },
    "tags": []
   },
   "outputs": [],
   "source": [
    "X = temp[combine_feature].copy()\n",
    "y = data['SalePrice'].copy()\n",
    "X_test = temp_test[combine_feature].copy()"
   ]
  },
  {
   "cell_type": "code",
   "execution_count": 43,
   "id": "dd47ac6d",
   "metadata": {
    "execution": {
     "iopub.execute_input": "2024-01-16T13:38:44.972193Z",
     "iopub.status.busy": "2024-01-16T13:38:44.971102Z",
     "iopub.status.idle": "2024-01-16T13:38:44.977443Z",
     "shell.execute_reply": "2024-01-16T13:38:44.976240Z"
    },
    "papermill": {
     "duration": 0.040421,
     "end_time": "2024-01-16T13:38:44.980405",
     "exception": false,
     "start_time": "2024-01-16T13:38:44.939984",
     "status": "completed"
    },
    "tags": []
   },
   "outputs": [],
   "source": [
    "del temp, temp_test, temp_y"
   ]
  },
  {
   "cell_type": "markdown",
   "id": "cc1ddc08",
   "metadata": {
    "papermill": {
     "duration": 0.030061,
     "end_time": "2024-01-16T13:38:45.042145",
     "exception": false,
     "start_time": "2024-01-16T13:38:45.012084",
     "status": "completed"
    },
    "tags": []
   },
   "source": [
    "## Generalize the data (Train test Split)"
   ]
  },
  {
   "cell_type": "code",
   "execution_count": 44,
   "id": "c796aa74",
   "metadata": {
    "execution": {
     "iopub.execute_input": "2024-01-16T13:38:45.104215Z",
     "iopub.status.busy": "2024-01-16T13:38:45.103764Z",
     "iopub.status.idle": "2024-01-16T13:38:45.110952Z",
     "shell.execute_reply": "2024-01-16T13:38:45.110070Z"
    },
    "papermill": {
     "duration": 0.041123,
     "end_time": "2024-01-16T13:38:45.113182",
     "exception": false,
     "start_time": "2024-01-16T13:38:45.072059",
     "status": "completed"
    },
    "tags": []
   },
   "outputs": [],
   "source": [
    "from sklearn.model_selection import train_test_split\n",
    "\n",
    "X_train, X_validate, y_train, y_validate = train_test_split(X, y, test_size=0.2, random_state=0)"
   ]
  },
  {
   "cell_type": "markdown",
   "id": "2259dcfd",
   "metadata": {
    "papermill": {
     "duration": 0.029352,
     "end_time": "2024-01-16T13:38:45.173553",
     "exception": false,
     "start_time": "2024-01-16T13:38:45.144201",
     "status": "completed"
    },
    "tags": []
   },
   "source": [
    "## Model: XGBoost and Evalaute: R2, MAE"
   ]
  },
  {
   "cell_type": "code",
   "execution_count": 45,
   "id": "0e04f92f",
   "metadata": {
    "execution": {
     "iopub.execute_input": "2024-01-16T13:38:45.239546Z",
     "iopub.status.busy": "2024-01-16T13:38:45.239086Z",
     "iopub.status.idle": "2024-01-16T13:38:45.244744Z",
     "shell.execute_reply": "2024-01-16T13:38:45.243583Z"
    },
    "papermill": {
     "duration": 0.040972,
     "end_time": "2024-01-16T13:38:45.247788",
     "exception": false,
     "start_time": "2024-01-16T13:38:45.206816",
     "status": "completed"
    },
    "tags": []
   },
   "outputs": [],
   "source": [
    "from sklearn.metrics import r2_score\n",
    "from sklearn.metrics import mean_absolute_error"
   ]
  },
  {
   "cell_type": "code",
   "execution_count": 46,
   "id": "42d2c6f2",
   "metadata": {
    "execution": {
     "iopub.execute_input": "2024-01-16T13:38:45.315124Z",
     "iopub.status.busy": "2024-01-16T13:38:45.314658Z",
     "iopub.status.idle": "2024-01-16T13:38:46.081996Z",
     "shell.execute_reply": "2024-01-16T13:38:46.080945Z"
    },
    "papermill": {
     "duration": 0.804281,
     "end_time": "2024-01-16T13:38:46.085042",
     "exception": false,
     "start_time": "2024-01-16T13:38:45.280761",
     "status": "completed"
    },
    "tags": []
   },
   "outputs": [
    {
     "data": {
      "text/html": [
       "<style>#sk-container-id-1 {color: black;background-color: white;}#sk-container-id-1 pre{padding: 0;}#sk-container-id-1 div.sk-toggleable {background-color: white;}#sk-container-id-1 label.sk-toggleable__label {cursor: pointer;display: block;width: 100%;margin-bottom: 0;padding: 0.3em;box-sizing: border-box;text-align: center;}#sk-container-id-1 label.sk-toggleable__label-arrow:before {content: \"▸\";float: left;margin-right: 0.25em;color: #696969;}#sk-container-id-1 label.sk-toggleable__label-arrow:hover:before {color: black;}#sk-container-id-1 div.sk-estimator:hover label.sk-toggleable__label-arrow:before {color: black;}#sk-container-id-1 div.sk-toggleable__content {max-height: 0;max-width: 0;overflow: hidden;text-align: left;background-color: #f0f8ff;}#sk-container-id-1 div.sk-toggleable__content pre {margin: 0.2em;color: black;border-radius: 0.25em;background-color: #f0f8ff;}#sk-container-id-1 input.sk-toggleable__control:checked~div.sk-toggleable__content {max-height: 200px;max-width: 100%;overflow: auto;}#sk-container-id-1 input.sk-toggleable__control:checked~label.sk-toggleable__label-arrow:before {content: \"▾\";}#sk-container-id-1 div.sk-estimator input.sk-toggleable__control:checked~label.sk-toggleable__label {background-color: #d4ebff;}#sk-container-id-1 div.sk-label input.sk-toggleable__control:checked~label.sk-toggleable__label {background-color: #d4ebff;}#sk-container-id-1 input.sk-hidden--visually {border: 0;clip: rect(1px 1px 1px 1px);clip: rect(1px, 1px, 1px, 1px);height: 1px;margin: -1px;overflow: hidden;padding: 0;position: absolute;width: 1px;}#sk-container-id-1 div.sk-estimator {font-family: monospace;background-color: #f0f8ff;border: 1px dotted black;border-radius: 0.25em;box-sizing: border-box;margin-bottom: 0.5em;}#sk-container-id-1 div.sk-estimator:hover {background-color: #d4ebff;}#sk-container-id-1 div.sk-parallel-item::after {content: \"\";width: 100%;border-bottom: 1px solid gray;flex-grow: 1;}#sk-container-id-1 div.sk-label:hover label.sk-toggleable__label {background-color: #d4ebff;}#sk-container-id-1 div.sk-serial::before {content: \"\";position: absolute;border-left: 1px solid gray;box-sizing: border-box;top: 0;bottom: 0;left: 50%;z-index: 0;}#sk-container-id-1 div.sk-serial {display: flex;flex-direction: column;align-items: center;background-color: white;padding-right: 0.2em;padding-left: 0.2em;position: relative;}#sk-container-id-1 div.sk-item {position: relative;z-index: 1;}#sk-container-id-1 div.sk-parallel {display: flex;align-items: stretch;justify-content: center;background-color: white;position: relative;}#sk-container-id-1 div.sk-item::before, #sk-container-id-1 div.sk-parallel-item::before {content: \"\";position: absolute;border-left: 1px solid gray;box-sizing: border-box;top: 0;bottom: 0;left: 50%;z-index: -1;}#sk-container-id-1 div.sk-parallel-item {display: flex;flex-direction: column;z-index: 1;position: relative;background-color: white;}#sk-container-id-1 div.sk-parallel-item:first-child::after {align-self: flex-end;width: 50%;}#sk-container-id-1 div.sk-parallel-item:last-child::after {align-self: flex-start;width: 50%;}#sk-container-id-1 div.sk-parallel-item:only-child::after {width: 0;}#sk-container-id-1 div.sk-dashed-wrapped {border: 1px dashed gray;margin: 0 0.4em 0.5em 0.4em;box-sizing: border-box;padding-bottom: 0.4em;background-color: white;}#sk-container-id-1 div.sk-label label {font-family: monospace;font-weight: bold;display: inline-block;line-height: 1.2em;}#sk-container-id-1 div.sk-label-container {text-align: center;}#sk-container-id-1 div.sk-container {/* jupyter's `normalize.less` sets `[hidden] { display: none; }` but bootstrap.min.css set `[hidden] { display: none !important; }` so we also need the `!important` here to be able to override the default hidden behavior on the sphinx rendered scikit-learn.org. See: https://github.com/scikit-learn/scikit-learn/issues/21755 */display: inline-block !important;position: relative;}#sk-container-id-1 div.sk-text-repr-fallback {display: none;}</style><div id=\"sk-container-id-1\" class=\"sk-top-container\"><div class=\"sk-text-repr-fallback\"><pre>XGBRegressor(base_score=None, booster=None, callbacks=None,\n",
       "             colsample_bylevel=None, colsample_bynode=None,\n",
       "             colsample_bytree=None, device=None, early_stopping_rounds=None,\n",
       "             enable_categorical=False, eval_metric=None, feature_types=None,\n",
       "             gamma=0, grow_policy=None, importance_type=None,\n",
       "             interaction_constraints=None, learning_rate=0.3, max_bin=None,\n",
       "             max_cat_threshold=None, max_cat_to_onehot=None,\n",
       "             max_delta_step=None, max_depth=10, max_leaves=None,\n",
       "             min_child_weight=None, missing=nan, monotone_constraints=None,\n",
       "             multi_strategy=None, n_estimators=100, n_jobs=None,\n",
       "             num_parallel_tree=None, random_state=None, ...)</pre><b>In a Jupyter environment, please rerun this cell to show the HTML representation or trust the notebook. <br />On GitHub, the HTML representation is unable to render, please try loading this page with nbviewer.org.</b></div><div class=\"sk-container\" hidden><div class=\"sk-item\"><div class=\"sk-estimator sk-toggleable\"><input class=\"sk-toggleable__control sk-hidden--visually\" id=\"sk-estimator-id-1\" type=\"checkbox\" checked><label for=\"sk-estimator-id-1\" class=\"sk-toggleable__label sk-toggleable__label-arrow\">XGBRegressor</label><div class=\"sk-toggleable__content\"><pre>XGBRegressor(base_score=None, booster=None, callbacks=None,\n",
       "             colsample_bylevel=None, colsample_bynode=None,\n",
       "             colsample_bytree=None, device=None, early_stopping_rounds=None,\n",
       "             enable_categorical=False, eval_metric=None, feature_types=None,\n",
       "             gamma=0, grow_policy=None, importance_type=None,\n",
       "             interaction_constraints=None, learning_rate=0.3, max_bin=None,\n",
       "             max_cat_threshold=None, max_cat_to_onehot=None,\n",
       "             max_delta_step=None, max_depth=10, max_leaves=None,\n",
       "             min_child_weight=None, missing=nan, monotone_constraints=None,\n",
       "             multi_strategy=None, n_estimators=100, n_jobs=None,\n",
       "             num_parallel_tree=None, random_state=None, ...)</pre></div></div></div></div></div>"
      ],
      "text/plain": [
       "XGBRegressor(base_score=None, booster=None, callbacks=None,\n",
       "             colsample_bylevel=None, colsample_bynode=None,\n",
       "             colsample_bytree=None, device=None, early_stopping_rounds=None,\n",
       "             enable_categorical=False, eval_metric=None, feature_types=None,\n",
       "             gamma=0, grow_policy=None, importance_type=None,\n",
       "             interaction_constraints=None, learning_rate=0.3, max_bin=None,\n",
       "             max_cat_threshold=None, max_cat_to_onehot=None,\n",
       "             max_delta_step=None, max_depth=10, max_leaves=None,\n",
       "             min_child_weight=None, missing=nan, monotone_constraints=None,\n",
       "             multi_strategy=None, n_estimators=100, n_jobs=None,\n",
       "             num_parallel_tree=None, random_state=None, ...)"
      ]
     },
     "execution_count": 46,
     "metadata": {},
     "output_type": "execute_result"
    }
   ],
   "source": [
    "import xgboost as xgb\n",
    "\n",
    "model = xgb.XGBRegressor(\n",
    "    n_estimators=100,\n",
    "    reg_lambda=1,\n",
    "    gamma=0,\n",
    "    max_depth=10,\n",
    "    learning_rate=0.3\n",
    ")\n",
    "\n",
    "model.fit(X_train,y_train)"
   ]
  },
  {
   "cell_type": "markdown",
   "id": "765b4aa9",
   "metadata": {
    "papermill": {
     "duration": 0.030393,
     "end_time": "2024-01-16T13:38:46.145233",
     "exception": false,
     "start_time": "2024-01-16T13:38:46.114840",
     "status": "completed"
    },
    "tags": []
   },
   "source": [
    "### Test model"
   ]
  },
  {
   "cell_type": "code",
   "execution_count": 47,
   "id": "5316cf0f",
   "metadata": {
    "execution": {
     "iopub.execute_input": "2024-01-16T13:38:46.209166Z",
     "iopub.status.busy": "2024-01-16T13:38:46.207673Z",
     "iopub.status.idle": "2024-01-16T13:38:46.228354Z",
     "shell.execute_reply": "2024-01-16T13:38:46.227101Z"
    },
    "papermill": {
     "duration": 0.056343,
     "end_time": "2024-01-16T13:38:46.231663",
     "exception": false,
     "start_time": "2024-01-16T13:38:46.175320",
     "status": "completed"
    },
    "tags": []
   },
   "outputs": [
    {
     "name": "stdout",
     "output_type": "stream",
     "text": [
      "R2 score: 0.7918390915975306\n",
      "Mean absolute error: 23766.422878317637\n"
     ]
    }
   ],
   "source": [
    "y_pred = model.predict(X_validate)\n",
    "\n",
    "R2 = r2_score(y_validate, y_pred)\n",
    "MAE = mean_absolute_error(y_validate, y_pred)\n",
    "\n",
    "print(f'R2 score: {R2}\\nMean absolute error: {MAE}')"
   ]
  },
  {
   "cell_type": "markdown",
   "id": "96ff114a",
   "metadata": {
    "papermill": {
     "duration": 0.031984,
     "end_time": "2024-01-16T13:38:46.298433",
     "exception": false,
     "start_time": "2024-01-16T13:38:46.266449",
     "status": "completed"
    },
    "tags": []
   },
   "source": [
    "### Evaluate model"
   ]
  },
  {
   "cell_type": "code",
   "execution_count": 48,
   "id": "0bd96e0a",
   "metadata": {
    "execution": {
     "iopub.execute_input": "2024-01-16T13:38:46.363609Z",
     "iopub.status.busy": "2024-01-16T13:38:46.363221Z",
     "iopub.status.idle": "2024-01-16T13:38:46.379902Z",
     "shell.execute_reply": "2024-01-16T13:38:46.379034Z"
    },
    "papermill": {
     "duration": 0.054399,
     "end_time": "2024-01-16T13:38:46.382674",
     "exception": false,
     "start_time": "2024-01-16T13:38:46.328275",
     "status": "completed"
    },
    "tags": []
   },
   "outputs": [],
   "source": [
    "# Fill in the line below: get test predictions\n",
    "y_pred_test = model.predict(X_test)\n",
    "\n",
    "# R2 = r2_score(y_test, y_pred_test)\n",
    "# MAE = mean_absolute_error(y_test, y_pred_test)\n",
    "\n",
    "# print(f'R2 score: {R2}\\nMean absolute error: {MAE}')"
   ]
  },
  {
   "cell_type": "code",
   "execution_count": 49,
   "id": "477c6741",
   "metadata": {
    "execution": {
     "iopub.execute_input": "2024-01-16T13:38:46.444384Z",
     "iopub.status.busy": "2024-01-16T13:38:46.443941Z",
     "iopub.status.idle": "2024-01-16T13:38:46.461589Z",
     "shell.execute_reply": "2024-01-16T13:38:46.460092Z"
    },
    "papermill": {
     "duration": 0.051115,
     "end_time": "2024-01-16T13:38:46.464486",
     "exception": false,
     "start_time": "2024-01-16T13:38:46.413371",
     "status": "completed"
    },
    "tags": []
   },
   "outputs": [],
   "source": [
    "output = pd.DataFrame({'Id': X_test.index,\n",
    "                       'SalePrice': y_pred_test})\n",
    "output.to_csv('submission.csv', index=False)"
   ]
  },
  {
   "cell_type": "code",
   "execution_count": 50,
   "id": "a82ed493",
   "metadata": {
    "execution": {
     "iopub.execute_input": "2024-01-16T13:38:46.525476Z",
     "iopub.status.busy": "2024-01-16T13:38:46.524601Z",
     "iopub.status.idle": "2024-01-16T13:38:46.529487Z",
     "shell.execute_reply": "2024-01-16T13:38:46.528428Z"
    },
    "papermill": {
     "duration": 0.038327,
     "end_time": "2024-01-16T13:38:46.532160",
     "exception": false,
     "start_time": "2024-01-16T13:38:46.493833",
     "status": "completed"
    },
    "tags": []
   },
   "outputs": [],
   "source": [
    "# pd.DataFrame({'Actual': y_test, 'Predicted': y_pred_test})"
   ]
  },
  {
   "cell_type": "code",
   "execution_count": null,
   "id": "fe1969fd",
   "metadata": {
    "papermill": {
     "duration": 0.02855,
     "end_time": "2024-01-16T13:38:46.589250",
     "exception": false,
     "start_time": "2024-01-16T13:38:46.560700",
     "status": "completed"
    },
    "tags": []
   },
   "outputs": [],
   "source": []
  }
 ],
 "metadata": {
  "kaggle": {
   "accelerator": "none",
   "dataSources": [
    {
     "databundleVersionId": 111096,
     "sourceId": 10211,
     "sourceType": "competition"
    }
   ],
   "dockerImageVersionId": 30635,
   "isGpuEnabled": false,
   "isInternetEnabled": false,
   "language": "python",
   "sourceType": "notebook"
  },
  "kernelspec": {
   "display_name": "Python 3",
   "language": "python",
   "name": "python3"
  },
  "language_info": {
   "codemirror_mode": {
    "name": "ipython",
    "version": 3
   },
   "file_extension": ".py",
   "mimetype": "text/x-python",
   "name": "python",
   "nbconvert_exporter": "python",
   "pygments_lexer": "ipython3",
   "version": "3.10.12"
  },
  "papermill": {
   "default_parameters": {},
   "duration": 17.668485,
   "end_time": "2024-01-16T13:38:47.742588",
   "environment_variables": {},
   "exception": null,
   "input_path": "__notebook__.ipynb",
   "output_path": "__notebook__.ipynb",
   "parameters": {},
   "start_time": "2024-01-16T13:38:30.074103",
   "version": "2.4.0"
  }
 },
 "nbformat": 4,
 "nbformat_minor": 5
}
